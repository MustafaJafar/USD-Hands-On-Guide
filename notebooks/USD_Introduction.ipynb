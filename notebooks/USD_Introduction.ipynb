{
 "cells": [
  {
   "cell_type": "markdown",
   "id": "caedc53a-ca22-4f6b-8ae1-283763f0ef7f",
   "metadata": {},
   "source": [
    "## **USD Introduciton**\n",
    "\n",
    "The introduction is mainly about: \n",
    "- What is USD ?\n",
    "- Why use USD ?\n",
    "\n",
    "While a quick Google search can give you better answers than mine, but let me share my two cents.\n",
    "\n",
    "As mentioned in [usd-explainer-guide](https://www.foundry.com/insights/film-tv/usd-explainer-guide):\n",
    "USD is a container format that describes how all assets are placed and how they are used and then adding layers of variation.\n",
    "USD enables the continuity of decisions throughout the pipeline through live updating these descriptions without baking.\n",
    "USD enhances team collaboration as people can work simultaneously on different layers of the same assets. People can override others work in a non destructive manner.\n",
    "USD didn't mature into a standard version yet.\n",
    "\n",
    "As mentioned in [USDBook](https://remedy-entertainment.github.io/USDBook/):\n",
    "USD is extensible which affords the ability to support file formats directly inside a USD hierarchy (e.g. FBX Support).\n",
    "USD is more of an ecosystem than just another file format on disk.\n",
    "USD data are not interactive i.e. they do not change unless the entire scene is “re-composed”. \n",
    "USD was built with “low-memory footprint, higher-latency data access” i.e. it sacrifices data access time in favor of low memory usage therefore USD cannot easily express “dynamic” systems like Rigging which relies on fast dynamically computed data access.\n",
    "\n",
    "## **USD based pipeline**\n",
    "You may be wondering how USD is used in production.\n",
    "So, here's a slideshow that demonstrates the use of USD in Pixar's pipeline using a mix of proprietary and commercially available solutions."
   ]
  },
  {
   "cell_type": "code",
   "execution_count": 1,
   "id": "4874b73b-2fc7-4180-868d-f869a2fc8fe9",
   "metadata": {},
   "outputs": [
    {
     "data": {
      "text/html": [
       "<iframe title=\"vimeo-player\" src=\"https://player.vimeo.com/video/188191100?h=555bb78fea\" width=\"640\" height=\"360\" frameborder=\"0\"    allowfullscreen></iframe>\n",
       "<p><a href=\"https://vimeo.com/188191100\">USD-Based Pipeline (2016)</a> from <a href=\"https://vimeo.com/user14728591\">Pixar Graphics</a> on <a href=\"https://vimeo.com\">Vimeo</a>.</p>\n"
      ],
      "text/plain": [
       "<IPython.core.display.HTML object>"
      ]
     },
     "metadata": {},
     "output_type": "display_data"
    }
   ],
   "source": [
    "%%html\n",
    "<iframe title=\"vimeo-player\" src=\"https://player.vimeo.com/video/188191100?h=555bb78fea\" width=\"640\" height=\"360\" frameborder=\"0\"    allowfullscreen></iframe>\n",
    "<p><a href=\"https://vimeo.com/188191100\">USD-Based Pipeline (2016)</a> from <a href=\"https://vimeo.com/user14728591\">Pixar Graphics</a> on <a href=\"https://vimeo.com\">Vimeo</a>.</p>"
   ]
  },
  {
   "cell_type": "markdown",
   "id": "6f7bcb8a-50ce-4a40-845a-4a53a1643f28",
   "metadata": {},
   "source": [
    "## **USD from different perspectives**\n",
    "### **From an artist perspective**\n",
    "- USD file format can represent arbitrary 3D data e.g. geometry, instancing, material networks, lights, cameras, volumes, coordinate systems, shading nodes.\n",
    "- USD is more of an ecosystem than just another file format on disk.\n",
    "- USD data are not interactive i.e. they do not change unless the entire scene is “re-composed”.\n",
    "\n",
    "### **From a developer perspective**\n",
    "- USD is both a runtime with an API you call as well as it's a file format.\n",
    "- USD ecosystem introduces a suite of libraries and tools (e.g. usdview).\n",
    "\n",
    "### **From a pipeline perspective**\n",
    "USD is universal and consistent language across the pipeline.\n",
    "USD describes how all assets are placed and how they are used and then adding layers of variation.\n",
    "USD enables the continuity of decisions throughout the pipeline through updating these descriptions without baking.\n",
    "USD enhances team collaboration as people can work simultaneously on different layers of the same assets. People can override others work in a non destructive manner.\n",
    "\n",
    "## **Interaction with USD**\n",
    "You can use many ways such as:\n",
    "- Standalone:\n",
    "    - USD python or C++ libs which enables programmers to have the full control\n",
    "    - Native USD tools by Pixar which provides basic commands such (view, convert between USD formats)\n",
    "- Within a Host Application (USD is embed into their toolset):\n",
    "    - Omniverse (which provides users with a GUI interface that uses the USD API in backend)\n",
    "    - Solaris (which provides users with Houdini Nodes that use the USD API)\n",
    "    - Autodesk Maya (which shows USD as Maya object in the outliner, Maya uses USD API in the background)\n",
    " \n",
    "## **Your First USD File**\n",
    "What about getting started right away ? \n",
    "\n",
    "Can you conclude what the following example represents?"
   ]
  },
  {
   "cell_type": "code",
   "execution_count": 7,
   "id": "530814c0-170a-49f8-aea2-1575d8a60817",
   "metadata": {},
   "outputs": [
    {
     "name": "stdout",
     "output_type": "stream",
     "text": [
      "Overwriting examples/usd_introcution/green_cube.usda\n"
     ]
    }
   ],
   "source": [
    "%%file examples/usd_introduction/green_cube.usda\n",
    "#usda 1.0\n",
    "(\n",
    "    doc = \"My first USD file\"\n",
    ")\n",
    "\n",
    "def Cube \"Cube\" (\n",
    "    apiSchemas = [\"MaterialBindingAPI\"]\n",
    ")\n",
    "{\n",
    "    rel material:binding = </Green>\n",
    "}\n",
    "\n",
    "def Material \"Green\" (\n",
    ")\n",
    "{\n",
    "    token outputs:surface.connect = </Green/Green.outputs:surface>\n",
    "\n",
    "    def Shader \"Green\"\n",
    "    {\n",
    "        uniform token info:id = \"UsdPreviewSurface\"\n",
    "        color3f inputs:diffuseColor = (0.5, 1, 0)\n",
    "        token outputs:surface\n",
    "    }\n",
    "}"
   ]
  },
  {
   "cell_type": "markdown",
   "id": "0b2ceb1d-9223-48d8-b943-fe4303c9d709",
   "metadata": {},
   "source": [
    "### **Result:**\n",
    "<details>\n",
    "  <summary><strong>Show Results</strong></summary>\n",
    "<img src=\"../resources/usd_introduction.png\">\n",
    "</details>"
   ]
  },
  {
   "cell_type": "code",
   "execution_count": null,
   "id": "bfa96e56-d629-4ae2-aded-fbdf112efb09",
   "metadata": {},
   "outputs": [],
   "source": []
  }
 ],
 "metadata": {
  "kernelspec": {
   "display_name": "Python 3 (ipykernel)",
   "language": "python",
   "name": "python3"
  },
  "language_info": {
   "codemirror_mode": {
    "name": "ipython",
    "version": 3
   },
   "file_extension": ".py",
   "mimetype": "text/x-python",
   "name": "python",
   "nbconvert_exporter": "python",
   "pygments_lexer": "ipython3",
   "version": "3.10.10"
  }
 },
 "nbformat": 4,
 "nbformat_minor": 5
}
