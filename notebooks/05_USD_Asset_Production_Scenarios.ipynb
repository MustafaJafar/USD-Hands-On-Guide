{
 "cells": [
  {
   "cell_type": "markdown",
   "id": "f8b97ecb-7fb2-49cf-8c34-f00ef5600287",
   "metadata": {},
   "source": [
    "## **Preface**\n",
    "\n",
    "This section is dedicated to experiment with our asset in different production scenarios.\n",
    "e.g. \n",
    "- create a layout layer\n",
    "- use instances\n",
    "- overrride material selection for some selected copies of our asset\n",
    "- override material selection for all copies\n",
    "  "
   ]
  }
 ],
 "metadata": {
  "kernelspec": {
   "display_name": "Python 3 (ipykernel)",
   "language": "python",
   "name": "python3"
  },
  "language_info": {
   "codemirror_mode": {
    "name": "ipython",
    "version": 3
   },
   "file_extension": ".py",
   "mimetype": "text/x-python",
   "name": "python",
   "nbconvert_exporter": "python",
   "pygments_lexer": "ipython3",
   "version": "3.10.10"
  }
 },
 "nbformat": 4,
 "nbformat_minor": 5
}
