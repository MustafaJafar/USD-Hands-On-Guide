{
 "cells": [
  {
   "cell_type": "markdown",
   "id": "7ee8dbde-6777-45f8-8592-a05927abd2d4",
   "metadata": {},
   "source": [
    "## **Preface**\n",
    "\n",
    "This guide doesn't contain any python code, just raw `.usda` snippets.\n",
    "I believe by the end of this guide, you will be able to build your own simple USD assets in raw `.usda`.\n",
    "\n",
    "> The asset structures described in this guide are intended to be simple. They may not be ideal for production although they may work anyway.\n",
    "\n",
    "## **Introduction**\n",
    "\n",
    "The goal of using USD is to build consistent pipelines across production.\n",
    "\n",
    "In my opinion, the first building block of any pipeline is how the assets are built/structured.\n",
    "\n",
    "In this guide we are going to discuss a very simple asset structure."
   ]
  },
  {
   "cell_type": "markdown",
   "id": "9b912610-97f8-456b-ae93-bdb254360951",
   "metadata": {},
   "source": [
    "## **Asset Structre Examples**\n",
    "\n",
    "### **Example 1 : Geo and Mtl layers**\n",
    "In this example: we have 3 layers. \n",
    "- `geo.usda` for our geometry\n",
    "- `mtl.usda` for our materials\n",
    "- `{asset-name}.usda` to wrap up `geo.usda` and `mtl.usda`"
   ]
  },
  {
   "cell_type": "code",
   "execution_count": 1,
   "id": "6c96dfe0-f74d-41ab-b196-5adcfbce43a5",
   "metadata": {},
   "outputs": [
    {
     "name": "stdout",
     "output_type": "stream",
     "text": [
      "Overwriting examples/usd_asset_structure/example_1_geo_mtl/geo.usda\n"
     ]
    }
   ],
   "source": [
    "%%file examples/usd_asset_structure/example_1_geo_mtl/geo.usda\n",
    "#usda 1.0\n",
    "\n",
    "def Xform \"Cube_Asset\"\n",
    "{\n",
    "    def Scope \"Geo\"\n",
    "    {\n",
    "        def Cube \"Cube\"\n",
    "        { }\n",
    "    }\n",
    "}"
   ]
  },
  {
   "cell_type": "code",
   "execution_count": 2,
   "id": "7bbc0e68-8118-4566-96b0-7051d89f2c96",
   "metadata": {},
   "outputs": [
    {
     "name": "stdout",
     "output_type": "stream",
     "text": [
      "Overwriting examples/usd_asset_structure/example_1_geo_mtl/mtl.usda\n"
     ]
    }
   ],
   "source": [
    "%%file examples/usd_asset_structure/example_1_geo_mtl/mtl.usda\n",
    "#usda 1.0\n",
    "\n",
    "def Xform \"Cube_Asset\"\n",
    "{\n",
    "    def Scope \"Mtl\"\n",
    "    {\n",
    "        def Material \"Red\"\n",
    "        {\n",
    "            token outputs:surface.connect = </Cube_Asset/Mtl/Red/Red_Preview.outputs:surface>\n",
    "\n",
    "            def Shader \"Red_Preview\"\n",
    "            {\n",
    "                uniform token info:id = \"UsdPreviewSurface\"\n",
    "                color3f inputs:diffuseColor = (1, 0, 0)\n",
    "                token outputs:surface\n",
    "            }\n",
    "        }\n",
    "    }\n",
    "\n",
    "    over \"Geo\"\n",
    "    {\n",
    "        over \"Cube\" (\n",
    "            prepend apiSchemas = [\"MaterialBindingAPI\"]\n",
    "        )\n",
    "        {\n",
    "            rel material:binding = </Cube_Asset/Mtl/Red>\n",
    "        }\n",
    "    }\n",
    "}"
   ]
  },
  {
   "cell_type": "code",
   "execution_count": 3,
   "id": "0ba00ef6-d1e7-44cf-a160-73811de9146a",
   "metadata": {},
   "outputs": [
    {
     "name": "stdout",
     "output_type": "stream",
     "text": [
      "Overwriting examples/usd_asset_structure/example_1_geo_mtl/cube_asset.usda\n"
     ]
    }
   ],
   "source": [
    "%%file examples/usd_asset_structure/example_1_geo_mtl/cube_asset.usda\n",
    "#usda 1.0\n",
    "\n",
    "def Xform \"Cube_Asset\" (\n",
    "    prepend references = [\n",
    "        @./geo.usda@</Cube_Asset>,  # bring contents of Cube_Asset in geo.usda\n",
    "        @./mtl.usda@</Cube_Asset>   # bring contents of Cube_Asset in mtl.usda\n",
    "    ]\n",
    ")\n",
    "{}"
   ]
  },
  {
   "cell_type": "markdown",
   "id": "940792c5-7161-4051-a66e-41bd5b65051b",
   "metadata": {},
   "source": [
    "**Result:**\n",
    "\n",
    "![](../resources/asset_structure/example_1_geo_mtl.png)\n"
   ]
  },
  {
   "cell_type": "markdown",
   "id": "b16afcaf-9d5a-4aa1-bb09-1fa29d953575",
   "metadata": {},
   "source": [
    "### **Example 2 : Geo and Mtl layers as payload**\n",
    "In this example: we have 4 layers. \n",
    "- `geo.usda` for our geometry\n",
    "- `mtl.usda` for our materials\n",
    "- `payload.usda` to wrap up `geo.usda` and `mtl.usda`\n",
    "- `{asset-name}.usda` to payload `payload.usda`"
   ]
  },
  {
   "cell_type": "code",
   "execution_count": 4,
   "id": "d8bbe029-cb2a-451f-b749-e59db61586e5",
   "metadata": {},
   "outputs": [
    {
     "name": "stdout",
     "output_type": "stream",
     "text": [
      "Overwriting examples/usd_asset_structure/example_2_geo_mtl_payload/geo.usda\n"
     ]
    }
   ],
   "source": [
    "%%file examples/usd_asset_structure/example_2_geo_mtl_payload/geo.usda\n",
    "#usda 1.0\n",
    "\n",
    "def Xform \"Cube_Asset\"\n",
    "{\n",
    "    def Scope \"Geo\"\n",
    "    {\n",
    "        def Cube \"Cube\"\n",
    "        { }\n",
    "    }\n",
    "}"
   ]
  },
  {
   "cell_type": "code",
   "execution_count": 5,
   "id": "703f24f2-988f-46ec-92ab-f5c5edaceedb",
   "metadata": {},
   "outputs": [
    {
     "name": "stdout",
     "output_type": "stream",
     "text": [
      "Overwriting examples/usd_asset_structure/example_2_geo_mtl_payload/mtl.usda\n"
     ]
    }
   ],
   "source": [
    "%%file examples/usd_asset_structure/example_2_geo_mtl_payload/mtl.usda\n",
    "#usda 1.0\n",
    "\n",
    "def Xform \"Cube_Asset\"\n",
    "{\n",
    "    def Scope \"Mtl\"\n",
    "    {\n",
    "        def Material \"Red\"\n",
    "        {\n",
    "            token outputs:surface.connect = </Cube_Asset/Mtl/Red/Red_Preview.outputs:surface>\n",
    "\n",
    "            def Shader \"Red_Preview\"\n",
    "            {\n",
    "                uniform token info:id = \"UsdPreviewSurface\"\n",
    "                color3f inputs:diffuseColor = (1, 0, 0)\n",
    "                token outputs:surface\n",
    "            }\n",
    "        }\n",
    "    }\n",
    "\n",
    "    over \"Geo\"\n",
    "    {\n",
    "        over \"Cube\" (\n",
    "            prepend apiSchemas = [\"MaterialBindingAPI\"]\n",
    "        )\n",
    "        {\n",
    "            rel material:binding = </Cube_Asset/Mtl/Red>\n",
    "        }\n",
    "    }\n",
    "}"
   ]
  },
  {
   "cell_type": "code",
   "execution_count": 6,
   "id": "2adfec9b-db14-4466-8d71-2fc784678b19",
   "metadata": {},
   "outputs": [
    {
     "name": "stdout",
     "output_type": "stream",
     "text": [
      "Overwriting examples/usd_asset_structure/example_2_geo_mtl_payload/payload.usda\n"
     ]
    }
   ],
   "source": [
    "%%file examples/usd_asset_structure/example_2_geo_mtl_payload/payload.usda\n",
    "#usda 1.0\n",
    "\n",
    "def Xform \"Cube_Asset\" (\n",
    "    prepend references = [\n",
    "        @./geo.usda@</Cube_Asset>,  # bring contents of Cube_Asset in geo.usda\n",
    "        @./mtl.usda@</Cube_Asset>   # bring contents of Cube_Asset in mtl.usda\n",
    "    ]\n",
    ")\n",
    "{}"
   ]
  },
  {
   "cell_type": "code",
   "execution_count": 7,
   "id": "43e7b47c-7e5d-4ced-8d4d-6dc3ca22dd56",
   "metadata": {},
   "outputs": [
    {
     "name": "stdout",
     "output_type": "stream",
     "text": [
      "Overwriting examples/usd_asset_structure/example_2_geo_mtl_payload/cube_asset.usda\n"
     ]
    }
   ],
   "source": [
    "%%file examples/usd_asset_structure/example_2_geo_mtl_payload/cube_asset.usda\n",
    "#usda 1.0\n",
    "\n",
    "def Xform \"Cube_Asset\" (\n",
    "    prepend payload = @./payload.usda@</Cube_Asset>\n",
    ")\n",
    "{}"
   ]
  },
  {
   "cell_type": "markdown",
   "id": "48e73846-9504-4514-b606-319b19a2ed06",
   "metadata": {},
   "source": [
    "**Result:**\n",
    "\n",
    "![](../resources/asset_structure/example_2_geo_mtl_payload.gif)\n"
   ]
  },
  {
   "cell_type": "markdown",
   "id": "accc877b-cb1f-451a-b86b-0196026ea197",
   "metadata": {},
   "source": [
    "### **Example 3 : Geo with variants and Mtl layers as payload**\n",
    "In this example: we have 4 layers. \n",
    "- `geo.usda` for our geometry variants\n",
    "- `mtl.usda` for our materials\n",
    "- `payload.usda` to wrap up `geo.usda` and `mtl.usda`\n",
    "- `{asset-name}.usda` to payload `payload.usda` with lofted variants.\n",
    "\n",
    "> `Lofing` a property means to make it available outside the payload.\n",
    ">\n",
    "> Lofted variant set: make variant options available even when unloading the payload."
   ]
  },
  {
   "cell_type": "code",
   "execution_count": 8,
   "id": "c8318bfa-ddb8-4b2a-bced-78e347e632bb",
   "metadata": {},
   "outputs": [
    {
     "name": "stdout",
     "output_type": "stream",
     "text": [
      "Overwriting examples/usd_asset_structure/example_3_variant_geo_mtl_payload/geo.usda\n"
     ]
    }
   ],
   "source": [
    "%%file examples/usd_asset_structure/example_3_variant_geo_mtl_payload/geo.usda\n",
    "#usda 1.0\n",
    "\n",
    "def Xform \"Cube_Asset\" (\n",
    "    variants = {\n",
    "        string model = \"normal\"\n",
    "    }\n",
    "    prepend variantSets = \"model\"\n",
    ")\n",
    "{\n",
    "    def Scope \"Geo\"\n",
    "    {\n",
    "        def Cube \"Cube\"\n",
    "        {\n",
    "            float3 xformOp:scale\n",
    "            uniform token[] xformOpOrder = [\"xformOp:scale\"]\n",
    "        }\n",
    "    }\n",
    "    variantSet \"model\" = {\n",
    "        \"normal\" {\n",
    "            over \"Geo\"\n",
    "            {\n",
    "                over \"Cube\"\n",
    "                {\n",
    "                    float3 xformOp:scale = (1, 1, 1)\n",
    "                }\n",
    "            }\n",
    "\n",
    "        }\n",
    "        \"short\" {\n",
    "            over \"Geo\"\n",
    "            {\n",
    "                over \"Cube\"\n",
    "                {\n",
    "                    float3 xformOp:scale = (1, 0.5, 1)\n",
    "                }\n",
    "            }\n",
    "\n",
    "        }\n",
    "        \"tall\" {\n",
    "            over \"Geo\"\n",
    "            {\n",
    "                over \"Cube\"\n",
    "                {\n",
    "                    float3 xformOp:scale = (1, 2, 1)\n",
    "                }\n",
    "            }\n",
    "\n",
    "        }\n",
    "    }\n",
    "}\n"
   ]
  },
  {
   "cell_type": "code",
   "execution_count": 9,
   "id": "373fb956-5893-48c4-893a-8bf955920430",
   "metadata": {},
   "outputs": [
    {
     "name": "stdout",
     "output_type": "stream",
     "text": [
      "Overwriting examples/usd_asset_structure/example_3_variant_geo_mtl_payload/mtl.usda\n"
     ]
    }
   ],
   "source": [
    "%%file examples/usd_asset_structure/example_3_variant_geo_mtl_payload/mtl.usda\n",
    "#usda 1.0\n",
    "\n",
    "def Xform \"Cube_Asset\"\n",
    "{\n",
    "    def Scope \"Mtl\"\n",
    "    {\n",
    "        def Material \"Red\"\n",
    "        {\n",
    "            token outputs:surface.connect = </Cube_Asset/Mtl/Red/Red_Preview.outputs:surface>\n",
    "\n",
    "            def Shader \"Red_Preview\"\n",
    "            {\n",
    "                uniform token info:id = \"UsdPreviewSurface\"\n",
    "                color3f inputs:diffuseColor = (1, 0, 0)\n",
    "                token outputs:surface\n",
    "            }\n",
    "        }\n",
    "    }\n",
    "\n",
    "    over \"Geo\"\n",
    "    {\n",
    "        over \"Cube\" (\n",
    "            prepend apiSchemas = [\"MaterialBindingAPI\"]\n",
    "        )\n",
    "        {\n",
    "            rel material:binding = </Cube_Asset/Mtl/Red>\n",
    "        }\n",
    "    }\n",
    "}"
   ]
  },
  {
   "cell_type": "code",
   "execution_count": 10,
   "id": "4275ccf0-f768-4c7f-9eeb-744633c68dd0",
   "metadata": {},
   "outputs": [
    {
     "name": "stdout",
     "output_type": "stream",
     "text": [
      "Overwriting examples/usd_asset_structure/example_3_variant_geo_mtl_payload/payload.usda\n"
     ]
    }
   ],
   "source": [
    "%%file examples/usd_asset_structure/example_3_variant_geo_mtl_payload/payload.usda\n",
    "#usda 1.0\n",
    "\n",
    "def Xform \"Cube_Asset\" (\n",
    "    prepend references = [\n",
    "        @./geo.usda@</Cube_Asset>,  # bring contents of Cube_Asset in geo.usda\n",
    "        @./mtl.usda@</Cube_Asset>   # bring contents of Cube_Asset in mtl.usda\n",
    "    ]\n",
    ")\n",
    "{}"
   ]
  },
  {
   "cell_type": "code",
   "execution_count": 11,
   "id": "f3324798-19f8-418a-9e7f-7927218e9f54",
   "metadata": {},
   "outputs": [
    {
     "name": "stdout",
     "output_type": "stream",
     "text": [
      "Overwriting examples/usd_asset_structure/example_3_variant_geo_mtl_payload/cube_asset.usda\n"
     ]
    }
   ],
   "source": [
    "%%file examples/usd_asset_structure/example_3_variant_geo_mtl_payload/cube_asset.usda\n",
    "#usda 1.0\n",
    "\n",
    "def Xform \"Cube_Asset\" (\n",
    "    prepend payload = @./payload.usda@</Cube_Asset>\n",
    "\n",
    "    # Loft Variant Set\n",
    "    variants = {\n",
    "        string model = \"normal\"\n",
    "    }\n",
    "    prepend variantSets = \"model\"\n",
    ")\n",
    "{\n",
    "    # Loft Variant options\n",
    "    variantSet \"model\" = {\n",
    "        \"normal\" {\n",
    "\n",
    "        }\n",
    "        \"short\" {\n",
    "\n",
    "        }\n",
    "        \"tall\" {\n",
    "\n",
    "        }\n",
    "    }\n",
    "}"
   ]
  },
  {
   "cell_type": "markdown",
   "id": "861e7905-7226-44af-9987-77a7f7c4d374",
   "metadata": {},
   "source": [
    "**Result:**\n",
    "\n",
    "![](../resources/asset_structure/example_3_variant_geo_mtl_payload.gif)"
   ]
  },
  {
   "cell_type": "markdown",
   "id": "5ed32fda-b353-4362-b3b7-011f58a21bba",
   "metadata": {},
   "source": [
    "### **Example 4 : variant Geo and variant Mtl layers as payload**\n",
    "In this example: we have 4 layers. \n",
    "- `geo.usda` for our geometry variants\n",
    "- `mtl.usda` for our materials variants\n",
    "- `payload.usda` to wrap up `geo.usda` and `mtl.usda`\n",
    "- `{asset-name}.usda` to payload `payload.usda` with lofted variants.\n",
    "\n",
    "> This structure assumes that all geo variants have the same prims hierarchy and names.\n",
    "\n",
    "![](../resources/asset_structure/asset_structure.png)"
   ]
  },
  {
   "cell_type": "code",
   "execution_count": 12,
   "id": "2f928d6b-10e5-4533-bb4b-1601f6e751b4",
   "metadata": {},
   "outputs": [
    {
     "name": "stdout",
     "output_type": "stream",
     "text": [
      "Overwriting examples/usd_asset_structure/example_4_variant_geo_variant_mtl_payload/geo.usda\n"
     ]
    }
   ],
   "source": [
    "%%file examples/usd_asset_structure/example_4_variant_geo_variant_mtl_payload/geo.usda\n",
    "#usda 1.0\n",
    "\n",
    "def Xform \"Cube_Asset\" (\n",
    "    variants = {\n",
    "        string model = \"normal\"\n",
    "    }\n",
    "    prepend variantSets = \"model\"\n",
    ")\n",
    "{\n",
    "    def Scope \"Geo\"\n",
    "    {\n",
    "        def Cube \"Cube\"\n",
    "        {\n",
    "            float3 xformOp:scale\n",
    "            uniform token[] xformOpOrder = [\"xformOp:scale\"]\n",
    "        }\n",
    "    }\n",
    "    variantSet \"model\" = {\n",
    "        \"normal\" {\n",
    "            over \"Geo\"\n",
    "            {\n",
    "                over \"Cube\"\n",
    "                {\n",
    "                    float3 xformOp:scale = (1, 1, 1)\n",
    "                }\n",
    "            }\n",
    "\n",
    "        }\n",
    "        \"short\" {\n",
    "            over \"Geo\"\n",
    "            {\n",
    "                over \"Cube\"\n",
    "                {\n",
    "                    float3 xformOp:scale = (1, 0.5, 1)\n",
    "                }\n",
    "            }\n",
    "\n",
    "        }\n",
    "        \"tall\" {\n",
    "            over \"Geo\"\n",
    "            {\n",
    "                over \"Cube\"\n",
    "                {\n",
    "                    float3 xformOp:scale = (1, 2, 1)\n",
    "                }\n",
    "            }\n",
    "\n",
    "        }\n",
    "    }\n",
    "}"
   ]
  },
  {
   "cell_type": "code",
   "execution_count": 13,
   "id": "2a793117-c46d-484d-b456-a76f578ddb14",
   "metadata": {},
   "outputs": [
    {
     "name": "stdout",
     "output_type": "stream",
     "text": [
      "Overwriting examples/usd_asset_structure/example_4_variant_geo_variant_mtl_payload/mtl.usda\n"
     ]
    }
   ],
   "source": [
    "%%file examples/usd_asset_structure/example_4_variant_geo_variant_mtl_payload/mtl.usda\n",
    "#usda 1.0\n",
    "\n",
    "def Xform \"Cube_Asset\" (\n",
    "    variants = {\n",
    "        string material = \"blue\"\n",
    "    }\n",
    "    prepend variantSets = \"material\"\n",
    ")\n",
    "{\n",
    "    def Scope \"Mtl\"\n",
    "    {\n",
    "        def Material \"Red\"\n",
    "        {\n",
    "            token outputs:surface.connect = </Cube_Asset/Mtl/Red/Red_Preview.outputs:surface>\n",
    "\n",
    "            def Shader \"Red_Preview\"\n",
    "            {\n",
    "                uniform token info:id = \"UsdPreviewSurface\"\n",
    "                color3f inputs:diffuseColor = (1, 0, 0)\n",
    "                token outputs:surface\n",
    "            }\n",
    "        }\n",
    "\n",
    "        def Material \"Green\"\n",
    "        {\n",
    "            token outputs:surface.connect = </Cube_Asset/Mtl/Green/Green_Preview.outputs:surface>\n",
    "\n",
    "            def Shader \"Green_Preview\"\n",
    "            {\n",
    "                uniform token info:id = \"UsdPreviewSurface\"\n",
    "                color3f inputs:diffuseColor = (0, 1, 0)\n",
    "                token outputs:surface\n",
    "            }\n",
    "        }\n",
    "\n",
    "        def Material \"Blue\"\n",
    "        {\n",
    "            token outputs:surface.connect = </Cube_Asset/Mtl/Blue/Blue_Preview.outputs:surface>\n",
    "\n",
    "            def Shader \"Blue_Preview\"\n",
    "            {\n",
    "                uniform token info:id = \"UsdPreviewSurface\"\n",
    "                color3f inputs:diffuseColor = (0, 0, 1)\n",
    "                token outputs:surface\n",
    "            }\n",
    "        }\n",
    "    }\n",
    "\n",
    "    variantSet \"material\" = {\n",
    "        \"blue\" {\n",
    "            over \"Geo\"\n",
    "            {\n",
    "                over \"Cube\" (\n",
    "                    prepend apiSchemas = [\"MaterialBindingAPI\"]\n",
    "                )\n",
    "                {\n",
    "                    rel material:binding = </Cube_Asset/Mtl/Blue>\n",
    "                }\n",
    "            }\n",
    "\n",
    "        }\n",
    "        \"green\" {\n",
    "            over \"Geo\"\n",
    "            {\n",
    "                over \"Cube\" (\n",
    "                    prepend apiSchemas = [\"MaterialBindingAPI\"]\n",
    "                )\n",
    "                {\n",
    "                    rel material:binding = </Cube_Asset/Mtl/Green>\n",
    "                }\n",
    "            }\n",
    "\n",
    "        }\n",
    "        \"red\" {\n",
    "            over \"Geo\"\n",
    "            {\n",
    "                over \"Cube\" (\n",
    "                    prepend apiSchemas = [\"MaterialBindingAPI\"]\n",
    "                )\n",
    "                {\n",
    "                    rel material:binding = </Cube_Asset/Mtl/Red>\n",
    "                }\n",
    "            }\n",
    "\n",
    "        }\n",
    "    }\n",
    "}\n",
    "\n"
   ]
  },
  {
   "cell_type": "code",
   "execution_count": 14,
   "id": "4c961100-8675-41c9-b663-bf504874c492",
   "metadata": {},
   "outputs": [
    {
     "name": "stdout",
     "output_type": "stream",
     "text": [
      "Overwriting examples/usd_asset_structure/example_4_variant_geo_variant_mtl_payload/payload.usda\n"
     ]
    }
   ],
   "source": [
    "%%file examples/usd_asset_structure/example_4_variant_geo_variant_mtl_payload/payload.usda\n",
    "#usda 1.0\n",
    "\n",
    "def Xform \"Cube_Asset\" (\n",
    "    prepend references = [\n",
    "        @./geo.usda@</Cube_Asset>,  # bring contents of Cube_Asset in geo.usda\n",
    "        @./mtl.usda@</Cube_Asset>   # bring contents of Cube_Asset in mtl.usda\n",
    "    ]\n",
    ")\n",
    "{}"
   ]
  },
  {
   "cell_type": "code",
   "execution_count": 15,
   "id": "4300c87c-101e-439b-a131-b9672c9d8b94",
   "metadata": {},
   "outputs": [
    {
     "name": "stdout",
     "output_type": "stream",
     "text": [
      "Overwriting examples/usd_asset_structure/example_4_variant_geo_variant_mtl_payload/cube_asset.usda\n"
     ]
    }
   ],
   "source": [
    "%%file examples/usd_asset_structure/example_4_variant_geo_variant_mtl_payload/cube_asset.usda\n",
    "#usda 1.0\n",
    "\n",
    "def Xform \"Cube_Asset\" (\n",
    "    prepend payload = @./payload.usda@</Cube_Asset>\n",
    "\n",
    "    # Loft Variant Sets\n",
    "    variants = {\n",
    "        string material = \"red\"\n",
    "        string model = \"normal\"\n",
    "    }\n",
    "    prepend variantSets = [\"model\", \"material\"]\n",
    ")\n",
    "{\n",
    "    # Loft Variant options\n",
    "    variantSet \"model\" = {\n",
    "        \"normal\" {\n",
    "\n",
    "        }\n",
    "        \"short\" {\n",
    "\n",
    "        }\n",
    "        \"tall\" {\n",
    "\n",
    "        }\n",
    "    }\n",
    "\n",
    "    variantSet \"material\" = {\n",
    "        \"blue\" {\n",
    "\n",
    "        }\n",
    "        \"green\" {\n",
    "\n",
    "        }\n",
    "        \"red\" {\n",
    "\n",
    "        }\n",
    "    }\n",
    "}"
   ]
  },
  {
   "cell_type": "markdown",
   "id": "f7e98f73-c20d-4559-bfa4-5de45607b02f",
   "metadata": {},
   "source": [
    "**Result:**\n",
    "\n",
    "![](../resources/asset_structure/example_4_variant_geo_variant_mtl_payload.gif)"
   ]
  },
  {
   "cell_type": "markdown",
   "id": "f603b9dd-5055-4fd9-9db4-31c1e89ef665",
   "metadata": {},
   "source": [
    "## USD Asset Structure guides\n",
    "\n",
    "For Further reading, dive into these guides.\n",
    "\n",
    "- [Principles of Scalable Asset Structure | Nvidia](https://docs.omniverse.nvidia.com/usd/latest/learn-openusd/independent/asset-structure-principles.html#principles-of-scalable-asset-structure-in-openusd)\n",
    "- [Guidelines for Structuring USD Assets | Chris Rydalch](https://wiki.aswf.io/display/WGUSD/Guidelines+for+Structuring+USD+Assets)\n",
    "- [Component Builder | SideFx](https://www.sidefx.com/docs/houdini/solaris/component_builder.html)\n",
    "- [ALab File Structure | ALA](https://usd-alab2.s3.amazonaws.com/documentation.html)"
   ]
  },
  {
   "cell_type": "code",
   "execution_count": null,
   "id": "4be220d5-40e7-4694-8aaa-2e9461f09dd5",
   "metadata": {},
   "outputs": [],
   "source": []
  }
 ],
 "metadata": {
  "kernelspec": {
   "display_name": "Python 3 (ipykernel)",
   "language": "python",
   "name": "python3"
  },
  "language_info": {
   "codemirror_mode": {
    "name": "ipython",
    "version": 3
   },
   "file_extension": ".py",
   "mimetype": "text/x-python",
   "name": "python",
   "nbconvert_exporter": "python",
   "pygments_lexer": "ipython3",
   "version": "3.10.10"
  }
 },
 "nbformat": 4,
 "nbformat_minor": 5
}
