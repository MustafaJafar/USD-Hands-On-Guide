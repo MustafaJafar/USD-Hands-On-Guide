{
 "cells": [
  {
   "cell_type": "markdown",
   "id": "91a6b782-39d7-4b5e-8cdd-5386cdefd455",
   "metadata": {},
   "source": [
    "## **Preface**\n",
    "This goal of this guide to introduce USD concepts without any code, where we read and write raw `.usda` files. also, we learn about why Composition arcs can lead to confusion.\n",
    "\n",
    "> Regards USD Terminology, we'll pick what we need, when we need it.\n",
    "\n",
    "\n",
    "## **Introduction**\n",
    "Each USD file ( `.usda`, `.usdc`, `.usd`, `.usdz` ) represents a USD **Layer**.\n",
    "\n",
    "Each USD Layer can consist of one or more **Prims** or USD **Layers**.\n",
    "\n",
    "Each **Prim** (USD Object) has:\n",
    "\n",
    "-  A **Schema** (Type)\n",
    "-  A **Namespace** (Path in the hierarchy)\n",
    "-  **Properties**\n",
    "    -   **Attributes** (e.g. Points, Normal, UVs, ... ,and etc. )\n",
    "    -   **Relationships** (e.g. Material Binding)\n",
    "-   **Metadata** (Static Info.)\n",
    "\n",
    "  \n",
    "> I find it funny that we need to understand the file structure of a USD file unlike we don't do that with alembics and FBXs.  \n",
    "> So, we may need to open USD files as text files but we don't do that with FBX files for example.\n",
    "\n",
    "## **Attributes**\n",
    "\n",
    "### **Attribute Template**\n",
    "\n",
    "Each **Schema** has an **attribute** template.\n",
    "\n",
    "e.g. few examples.\n",
    "\n",
    "> I'm using Houdini for visualization  \n",
    "> if you are wondering about attributes color code in Houdini. it's mentioned [here](https://www.sidefx.com/docs/houdini/ref/panes/scenegraphdetails.html#text-colors)\n",
    "\n",
    "| **Xfrom** | **mesh** | **camera** |\n",
    "| ---| ---| --- |\n",
    "| ![](../resources/getting_started_guide/xform.png) | ![](../resources/getting_started_guide/mesh.png) | ![](../resources/getting_started_guide/camera.png) |\n",
    "\n",
    "### **Attribute Data Type**\n",
    "\n",
    "Each Attribute has a data type\n",
    "\n",
    "*   integer\n",
    "*   float\n",
    "*   string\n",
    "*   vector\n",
    "*   array\n",
    "\n",
    "  \n",
    "\n",
    "### **PrimVars**\n",
    "\n",
    "**PrimVars** attributes: any custom attributes found on the geometry will be added to USD as `PrimVars:my_attribute`\n",
    "\n",
    "Each **PrimVar** has an **interpolation** mode depends on the attribute class.\n",
    "\n",
    "Attribute Class Interpolation\n",
    "\n",
    "Point ➝ Vertex\n",
    "\n",
    "Vertex ➝ Face Varying\n",
    "\n",
    "Primitive ➝ Uniform\n",
    "\n",
    "Detail ➝ Constant\n",
    "\n",
    "  \n",
    "\n",
    "### **Default vs. Time Samples (Static vs. Animated)**\n",
    "\n",
    "  \n",
    "\n",
    "two static points\n",
    "\n",
    "```python\n",
    "points[2]:[\n",
    "            (1,0,0),\n",
    "            (1,0.5,0),\n",
    "          ]\n",
    "```\n",
    "\n",
    "two animated points\n",
    "\n",
    "```python\n",
    "points[2]:{\n",
    "           1:[(1,0,0),(1,0.5,0)],\n",
    "           2:[(0.9,0,0),(1,0.4,0)],\n",
    "           3:[(0.8,0,0),(1,0.3,0)],\n",
    "          }\n",
    "```\n",
    "\n",
    "Having animated attributes can multiply your file size. so, make sure that static attributes don't have time samples.\n",
    "\n",
    "  \n",
    "\n",
    "### **Time Samples**\n",
    "\n",
    "USD uses linear interpolation for frames in between time samples.\n",
    "\n",
    "  \n",
    "\n",
    "```python\n",
    "primvars:test[2]:{\n",
    "                   1:[0],\n",
    "                   2:[5]\n",
    "                  }\n",
    "```\n",
    "\n",
    "  \n",
    "\n",
    "At **frame\\[1.5\\]** value ➝ (0+5)/2 = **2.5**\n",
    "\n",
    "  \n",
    "\n",
    "### **Fallbacks**\n",
    "\n",
    "Attribute templates provided by schemas come with default fall back values if users didn't define any values\n",
    "\n",
    "e.g. if you didn't set orientation, USD will assume it's rightHanded.\n",
    "\n",
    "![fallbacks](../resources/getting_started_guide/fallbacks.png)\n",
    "\n",
    "\n",
    "## **Layers**\n",
    "\n",
    "### **Different Formats**\n",
    "\n",
    "In essence. Each USD file ( `.usda`, `.usdc`, `.usd`, `.usdz` ) represents a USD **Layer**.\n",
    "\n",
    "*   `.usda` : USD Ascii, Human-readable (used for debugging).\n",
    "*   `.usdc` : USD Crate. Binary (a compressed USD file, memory efficient and fast accessed).\n",
    "*   `.usd` : Can be and Ascii or Crate.\n",
    "*   `.usdz` : USD ZIP, A USD layer and its supporting files like textures.\n",
    "\n",
    "  \n",
    "\n",
    "USD comes with tool `usdcat` that converts between different USD formats\n",
    "\n",
    "### **Layer Example**\n"
   ]
  },
  {
   "cell_type": "code",
   "execution_count": 1,
   "id": "00888a7b-1c24-4a7e-be20-274e1a72b2a5",
   "metadata": {},
   "outputs": [
    {
     "name": "stdout",
     "output_type": "stream",
     "text": [
      "Writing examples/usd_beginner_guide/layer_example.usda\n"
     ]
    }
   ],
   "source": [
    "%%file examples/usd_beginner_guide/layer_example.usda\n",
    "#usda 1.0\n",
    "# sphere.usda\n",
    "(\n",
    "    # Optional metadata for the layer\n",
    "    framesPerSecond = 24\n",
    "    upAxis = \"Y\"\n",
    "    doc = \"This is sample ascii usd file\"\n",
    ")\n",
    "\n",
    "def Sphere \"my_sphere\"(\n",
    "    # Optional metadata for the prim\n",
    "    kind = \"component\"\n",
    "    doc = \"This is sphere with an animated attribute.\"\n",
    ")\n",
    "{\n",
    "    matrix4d xformOp:transform = ((1, 0, 0, 0), \n",
    "                                  (0, 1, 0, 0), \n",
    "                                  (0, 0, 1, 0), \n",
    "                                  (0, 0, 0, 1))\n",
    "    uniform token[] xformOpOrder = [\"xformOp:transform\"]\n",
    "\n",
    "    float primvars:test.timeSamples = {\n",
    "            1: 0.84147096,\n",
    "            2: 0.9092974,\n",
    "            3: 0.14112,\n",
    "            4: -0.7568025,\n",
    "            5: -0.9589243,\n",
    "            6: -0.2794155,\n",
    "            7: 0.6569866,\n",
    "            8: 0.98935825,\n",
    "            9: 0.4121185,\n",
    "            10: -0.5440211,\n",
    "        }\n",
    "}"
   ]
  },
  {
   "cell_type": "markdown",
   "id": "798b2531-da2a-482c-b835-1682e100904f",
   "metadata": {},
   "source": [
    "## **Composition**\n",
    "\n",
    "Composition refers to how layers are composed/combined\n",
    "\n",
    "For example, Each department can have its own layer where it adds  its contribution to the the final shot layer.\n",
    "\n",
    "Each department can author its opinions on different layers by adding prims or modifying existing ones.\n",
    "\n",
    "Imagine a list of departments and we have ranked/ordered that list from weakest to strongest.\n",
    "\n",
    "e.g. `Model` ➜ `Layout` ➜ `Animation` ➜ `Simulation` ➜ `FX` ➜ `Lighting`\n",
    "\n",
    "The higher the rank/order, the stronger the opinion.\n",
    "\n",
    "So, when many departments have different opinions about the position of an object and the opinion of the strongest department wins.\n",
    "\n",
    "Responsible for merging these layers and views (based on your input) is the **compositing engine**.\n",
    "\n",
    "### **Stage**\n",
    "\n",
    "A Stage is the resulting/composed scene graph generated by the composition engine.\n",
    "\n",
    "### **Composition Arcs**\n",
    "\n",
    "Composition **Arcs are** Composition **Operators.**\n",
    "\n",
    "We use arcs/operators to define how should the departments layers be combined..\n",
    "\n",
    "Each arc/operator adds a certain strength to a layer.\n",
    "\n",
    "It's called **arc** because when you draw a diagram to show how they are combined, you draw an arc that goes from one layer to the other.\n",
    "\n",
    "There are many available Arc/Operators as follows:\n",
    "\n",
    "#### **Sub-Layering**\n",
    "\n",
    "Sub-Layering creates a **layer stack** where layers are stacked on top of each other from lowest to highest order.\n",
    "\n",
    "The higher the order, the stronger the opinion.\n",
    "\n",
    "Here's a demo where I sub-layered layers from different departments.\n"
   ]
  },
  {
   "cell_type": "code",
   "execution_count": 14,
   "id": "d4c11c0a-3663-4aee-a3a6-e0df9e740449",
   "metadata": {},
   "outputs": [
    {
     "data": {
      "text/html": [
       "<video width=800 controls>\n",
       "  <source src=\"../resources/getting_started_guide/sublayer_example.mp4\" type=\"video/mp4\">\n",
       "</video> \n"
      ],
      "text/plain": [
       "<IPython.core.display.HTML object>"
      ]
     },
     "metadata": {},
     "output_type": "display_data"
    }
   ],
   "source": [
    "%%html\n",
    "<video width=800 controls>\n",
    "  <source src=\"../resources/getting_started_guide/sublayer_example.mp4\" type=\"video/mp4\">\n",
    "</video> "
   ]
  },
  {
   "cell_type": "markdown",
   "id": "aeb85160-5f78-4421-bd94-c4375f14e71d",
   "metadata": {},
   "source": [
    "In the previous example: file `cube_asset.usda` is exactly as:"
   ]
  },
  {
   "cell_type": "code",
   "execution_count": 81,
   "id": "bcaf080b-abf0-4ad2-88c0-e11210025c12",
   "metadata": {},
   "outputs": [
    {
     "name": "stdout",
     "output_type": "stream",
     "text": [
      "#usda 1.0\n",
      "(\n",
      "    endTimeCode = 90\n",
      "    framesPerSecond = 24\n",
      "    metersPerUnit = 1\n",
      "    startTimeCode = 1\n",
      "    subLayers = [\n",
      "        @./animation.usda@,\n",
      "        @./lookdev.usda@,\n",
      "        @./model.usda@\n",
      "    ]\n",
      "    timeCodesPerSecond = 24\n",
      "    upAxis = \"Y\"\n",
      ")\n",
      "\n",
      "\n"
     ]
    }
   ],
   "source": [
    "from pxr import Usd\n",
    "# This USDA file was created in Houdini.\n",
    "stage = Usd.Stage.Open('examples/usd_beginner_guide/sublayer_example/cube_asset.usda')\n",
    "print(stage.GetRootLayer().ExportToString())"
   ]
  },
  {
   "cell_type": "markdown",
   "id": "d39279d1-2ea6-4b57-92a7-a7a9ecdba348",
   "metadata": {},
   "source": [
    "The layers order from weak to strong is from top to bottom:\n",
    "\n",
    "1. cube_asset.usda (itself)\n",
    "2. animation.usda\n",
    "3. lookdev.usda\n",
    "4. model.usda\n",
    "\n",
    "#### **Reference**\n",
    "It's a pointer to a specific Prim on a layer.\n",
    "\n",
    "It's suitable to build assets.\n",
    "\n",
    "you can reference the same layer more than once. (unlike sub-layering)\n",
    "> I've included the necessary files from `esper_room` asset in the example files so that the following layer will work properly.\n",
    "> \n",
    "> I don't own that asset. Find the full asset here [3D Assets | JCube](https://j-cube.jp/solutions/multiverse/assets/).\n",
    "> Many thanks to JCube for making this asset available."
   ]
  },
  {
   "cell_type": "code",
   "execution_count": 8,
   "id": "253e5a23-41f5-485f-a30f-b17a1cf84dcd",
   "metadata": {},
   "outputs": [
    {
     "name": "stdout",
     "output_type": "stream",
     "text": [
      "Writing examples/usd_beginner_guide/reference_example.usda\n"
     ]
    }
   ],
   "source": [
    "%%file examples/usd_beginner_guide/reference_example.usda\n",
    "#usda 1.0\n",
    "\n",
    "def Xform \"Bedroom\"\n",
    "{\n",
    "  def \"Cover\"(\n",
    "    prepend references  = @./esper_room_v3/bed/bed_geo.usdc@</Bed/BedCover> \n",
    "  )\n",
    "  {}\n",
    "\n",
    "  def \"Drawer01\"(\n",
    "    prepend references  = @./esper_room_v3/clothDrawer/clothesDrawer_geo.usdc@</ClothesDrawer> \n",
    "  )\n",
    "  {\n",
    "    double3 xformOp:translate = (-6.0, 0.0, -12.0)\n",
    "    uniform token[] xformOpOrder = [\"xformOp:translate\"]\n",
    "  }\n",
    "\n",
    "  def \"Drawer02\"(\n",
    "    prepend references  = @./esper_room_v3/clothDrawer/clothesDrawer_geo.usdc@</ClothesDrawer> \n",
    "  )\n",
    "  {\n",
    "    double3 xformOp:translate = (6.0, 0.0, -12.0)\n",
    "    uniform token[] xformOpOrder = [\"xformOp:translate\"]\n",
    "  }\n",
    "}"
   ]
  },
  {
   "cell_type": "markdown",
   "id": "0a444b57-6816-4479-a7eb-2be2bb71791f",
   "metadata": {},
   "source": [
    "![reference example](../resources/getting_started_guide/reference_example.png)\n",
    "\n"
   ]
  },
  {
   "cell_type": "markdown",
   "id": "2d8a6899-e6e1-4cbb-becd-dd922b1652de",
   "metadata": {},
   "source": [
    "#### **Specifier**\n",
    "\n",
    "specifies how the Prim should be interpreted during composition, there are 3 specifiers:\n",
    "\n",
    "*   `def` ➝ define\n",
    "*   `over` ➝ override (weakest)\n",
    "*   `class` ➝ class"
   ]
  },
  {
   "cell_type": "code",
   "execution_count": 11,
   "id": "a867ee96-ff00-470f-a31a-69944ddcd2e0",
   "metadata": {},
   "outputs": [
    {
     "name": "stdout",
     "output_type": "stream",
     "text": [
      "Writing examples/usd_beginner_guide/override_example.usda\n"
     ]
    }
   ],
   "source": [
    "%%file examples/usd_beginner_guide/override_example.usda\n",
    "#usda 1.0\n",
    "  \n",
    "# the data in this layer is meaningles, if you don't look at it in the right context.\n",
    "# and this supposed to be looked togther with the model.\n",
    "(\n",
    "    subLayers = [\n",
    "        @./esper_room_v3/clothDrawer/clothesDrawer_geo.usdc@\n",
    "    ]\n",
    ")\n",
    "\n",
    "over \"ClothesDrawer\"\n",
    "{\n",
    "    # I'm moving the whole ClothesDrawer. but, it's not shown in my screen shots.\n",
    "    double3 xformOp:translate = (6, 0, -12)\n",
    "    uniform token[] xformOpOrder = [\"xformOp:translate\"]\n",
    "\n",
    "    over \"Drawer\"\n",
    "    {\n",
    "        over \"DrawerMid\"\n",
    "        {\n",
    "            double3 xformOp:translate = (0, 0, 1.5)\n",
    "            uniform token[] xformOpOrder = [\"xformOp:translate\"]\n",
    "        }\n",
    "\n",
    "        over \"DrawerTop\"\n",
    "        {\n",
    "            double3 xformOp:translate = (0, 0, 0.25)\n",
    "            uniform token[] xformOpOrder = [\"xformOp:translate\"]\n",
    "        }\n",
    "    }\n",
    "}"
   ]
  },
  {
   "cell_type": "markdown",
   "id": "b269d165-0732-4263-9fe9-a3633c32ae20",
   "metadata": {},
   "source": [
    "| Original | Override |\n",
    "| -- | -- | \n",
    "| ![](../resources/getting_started_guide/before_override.png) | ![](../resources/getting_started_guide/after_override.png) |\n",
    "\n"
   ]
  },
  {
   "cell_type": "markdown",
   "id": "21bb6aaf-523f-4772-af76-1b07a4bdcc28",
   "metadata": {},
   "source": [
    "### **Composition Arcs - In depth**\n",
    "\n",
    "Each composition arc works in a different level/context.\n",
    "\n",
    "*   Variant ➝ Prim Context\n",
    "*   Sub-Layer ➝ Layer Context\n",
    "*   Reference ➝ Prim Context\n",
    "*   Payload ➝ Prim Context\n",
    "*   Inherit ➝ Prim Context\n",
    "*   Specialize ➝ Prim Context\n",
    "\n",
    "#### **Variants**\n",
    "Well, variants are used to add ehm.. variants 🤷‍♂️.\n",
    "\n",
    "**Example : Add model variation**"
   ]
  },
  {
   "cell_type": "code",
   "execution_count": 12,
   "id": "ade850c6-edeb-4911-9c17-aee4fd183412",
   "metadata": {},
   "outputs": [
    {
     "name": "stdout",
     "output_type": "stream",
     "text": [
      "Writing examples/usd_beginner_guide/variant_example.usda\n"
     ]
    }
   ],
   "source": [
    "%%file examples/usd_beginner_guide/variant_example.usda\n",
    "#usda 1.0\n",
    "\n",
    "def Xform \"Xform\" (\n",
    "    variants = {\n",
    "        string model = \"Default_Cube\"\n",
    "    }\n",
    "    prepend variantSets = \"model\"\n",
    ")\n",
    "{\n",
    "    variantSet \"model\" = {\n",
    "        \"Default_Cube\" {\n",
    "            def Cube \"Default_Cube\"\n",
    "            {\n",
    "                matrix4d xformOp:transform = ( (1, 0, 0, 0), (0, 1, 0, 0), (0, 0, 1, 0), (0, 1, 0, 1) )\n",
    "                uniform token[] xformOpOrder = [\"xformOp:transform\"]\n",
    "            }\n",
    "        }\n",
    "        \"Red_Tall_Cube\" {\n",
    "            def Cube \"Red_Tall_Cube\"\n",
    "            {\n",
    "                color3f[] primvars:displayColor = [(1, 0, 0)] (\n",
    "                    interpolation = \"constant\"\n",
    "                )\n",
    "                matrix4d xformOp:transform = ( (1, 0, 0, 0), (0, 2, 0, 0), (0, 0, 1, 0), (0, 2, 0, 1) )\n",
    "                uniform token[] xformOpOrder = [\"xformOp:transform\"]\n",
    "            }\n",
    "        }\n",
    "        \"Blue_Short_Cube\" {\n",
    "            def Cube \"Blue_Short_Cube\"\n",
    "            {\n",
    "                color3f[] primvars:displayColor = [(0, 0, 1)] (\n",
    "                    interpolation = \"constant\"\n",
    "                )\n",
    "                matrix4d xformOp:transform = ( (1, 0, 0, 0), (0, 0.5, 0, 0), (0, 0, 1, 0), (0, 0.5, 0, 1) )\n",
    "                uniform token[] xformOpOrder = [\"xformOp:transform\"]\n",
    "            }\n",
    "        }\n",
    "    }\n",
    "}"
   ]
  },
  {
   "cell_type": "markdown",
   "id": "235e28c4-0af2-4ed5-91c6-920cc58eee4a",
   "metadata": {},
   "source": [
    "**Result:**"
   ]
  },
  {
   "cell_type": "markdown",
   "id": "af793d95-0bd5-453f-846f-3a60b17b2086",
   "metadata": {},
   "source": [
    "![](../resources/getting_started_guide/variant_example.gif)"
   ]
  },
  {
   "cell_type": "markdown",
   "id": "88d5b2a8-09ab-428e-bbc5-a804c829e5d9",
   "metadata": {},
   "source": [
    "#### **Sub-Layer**\n",
    "\n",
    "**Sub-Layer** is used to add/stack different layers in one file\n",
    "\n",
    "**Example 1 : Sub-layers with different Prims.**"
   ]
  },
  {
   "cell_type": "code",
   "execution_count": 23,
   "id": "413601bd-ef65-4c1d-823b-0ac75abe7734",
   "metadata": {},
   "outputs": [
    {
     "name": "stdout",
     "output_type": "stream",
     "text": [
      "Overwriting examples/usd_beginner_guide/sublayer_example_1_different_prims/a_sphere.usda\n"
     ]
    }
   ],
   "source": [
    "%%file examples/usd_beginner_guide/sublayer_example_1_different_prims/a_sphere.usda\n",
    "#usda 1.0\n",
    "\n",
    "def Sphere \"a_sphere\"\n",
    "{}"
   ]
  },
  {
   "cell_type": "code",
   "execution_count": 24,
   "id": "ce9c76b0-46c3-49e2-998d-1d70af11e26e",
   "metadata": {},
   "outputs": [
    {
     "name": "stdout",
     "output_type": "stream",
     "text": [
      "Overwriting examples/usd_beginner_guide/sublayer_example_1_different_prims/a_cube.usda\n"
     ]
    }
   ],
   "source": [
    "%%file examples/usd_beginner_guide/sublayer_example_1_different_prims/a_cube.usda\n",
    "#usda 1.0\n",
    "\n",
    "def Cube \"a_cube\"\n",
    "{\n",
    "    double3 xformOp:translate = (0.0, 0.0, 2.0)\n",
    "    uniform token[] xformOpOrder = [\"xformOp:translate\"]\n",
    "}"
   ]
  },
  {
   "cell_type": "code",
   "execution_count": 25,
   "id": "512786f6-a800-43be-9011-4bec4f5ab8c3",
   "metadata": {},
   "outputs": [
    {
     "name": "stdout",
     "output_type": "stream",
     "text": [
      "Overwriting examples/usd_beginner_guide/sublayer_example_1_different_prims/sublayer_cube_sphere.usda\n"
     ]
    }
   ],
   "source": [
    "%%file examples/usd_beginner_guide/sublayer_example_1_different_prims/sublayer_cube_sphere.usda\n",
    "#usda 1.0\n",
    "\n",
    "# you can't sublayer the same layer twice (I can't add 'a_cube.usda' twice!).\n",
    "# These layers order don't matter as they won't affect each other as both have different Prims!\n",
    "(\n",
    "    subLayers = [\n",
    "        @./a_cube.usda@,\n",
    "        @./a_sphere.usda@\n",
    "    ]\n",
    ")"
   ]
  },
  {
   "cell_type": "markdown",
   "id": "877ba298-0bf6-48ce-90b4-c9e7c83db162",
   "metadata": {},
   "source": [
    "**Result:**\n",
    "![](../resources/getting_started_guide/sublayer_example_1_different_prims.png)\n",
    "\n",
    "**Example 2 : Sub-layers with the same Prim.**\n",
    "\n",
    "Note: I'm using the same prim name. So, both layers have an opinion on the prim display color. which opinion will win?"
   ]
  },
  {
   "cell_type": "code",
   "execution_count": 26,
   "id": "daa8124a-0fb0-4289-a24c-68d220adbb89",
   "metadata": {},
   "outputs": [
    {
     "name": "stdout",
     "output_type": "stream",
     "text": [
      "Writing examples/usd_beginner_guide/sublayer_example_2_same_prim/a_red_cube.usda\n"
     ]
    }
   ],
   "source": [
    "%%file examples/usd_beginner_guide/sublayer_example_2_same_prim/a_red_cube.usda\n",
    "#usda 1.0\n",
    "\n",
    "def Cube \"a_cube\"\n",
    "{\n",
    "    color3f[] primvars:displayColor = [(1, 0, 0)] (\n",
    "        interpolation = \"constant\"\n",
    "    )\n",
    "}"
   ]
  },
  {
   "cell_type": "code",
   "execution_count": 27,
   "id": "ab3ff119-ef70-4b8d-a4ab-f4d3cfb75caf",
   "metadata": {},
   "outputs": [
    {
     "name": "stdout",
     "output_type": "stream",
     "text": [
      "Writing examples/usd_beginner_guide/sublayer_example_2_same_prim/a_blue_cube.usda\n"
     ]
    }
   ],
   "source": [
    "%%file examples/usd_beginner_guide/sublayer_example_2_same_prim/a_blue_cube.usda\n",
    "#usda 1.0\n",
    "\n",
    "def Cube \"a_cube\"\n",
    "{\n",
    "    color3f[] primvars:displayColor = [(0, 0, 1)] (\n",
    "        interpolation = \"constant\"\n",
    "    )\n",
    "}"
   ]
  },
  {
   "cell_type": "code",
   "execution_count": 28,
   "id": "8cbc9ca7-92bc-4eb9-b330-510f74da2555",
   "metadata": {},
   "outputs": [
    {
     "name": "stdout",
     "output_type": "stream",
     "text": [
      "Writing examples/usd_beginner_guide/sublayer_example_2_same_prim/sublayer_two_cubes.usda\n"
     ]
    }
   ],
   "source": [
    "%%file examples/usd_beginner_guide/sublayer_example_2_same_prim/sublayer_two_cubes.usda\n",
    "#usda 1.0\n",
    "\n",
    "# These cubes have the same prim. \n",
    "# So, what color will be the cube ? \n",
    "(\n",
    "    subLayers = [\n",
    "        @./a_blue_cube.usda@,\n",
    "        @./a_red_cube.usda@\n",
    "        \n",
    "    ]\n",
    ")"
   ]
  },
  {
   "cell_type": "markdown",
   "id": "dc23ef09-af05-4983-be4d-e253b64dc905",
   "metadata": {},
   "source": [
    "**Result:** Notice the layer stack.\n",
    "![](../resources/getting_started_guide/sublayer_example_2_same_prims.png)\n",
    "\n",
    "\n",
    "**Example 3 : Sub-layers with the same Prim. Author opinions as sub-layers.**"
   ]
  },
  {
   "cell_type": "code",
   "execution_count": 30,
   "id": "8303100a-bf57-49be-94b9-87b5041642dd",
   "metadata": {},
   "outputs": [
    {
     "name": "stdout",
     "output_type": "stream",
     "text": [
      "Writing examples/usd_beginner_guide/sublayer_example_3_same_prim/a_blue_cube.usda\n"
     ]
    }
   ],
   "source": [
    "%%file examples/usd_beginner_guide/sublayer_example_3_same_prim/a_blue_cube.usda\n",
    "#usda 1.0\n",
    "\n",
    "def Cube \"a_cube\"\n",
    "{\n",
    "    color3f[] primvars:displayColor = [(0, 0, 1)] (\n",
    "        interpolation = \"constant\"\n",
    "    )\n",
    "}"
   ]
  },
  {
   "cell_type": "code",
   "execution_count": 31,
   "id": "71417c4a-1050-41aa-9899-d34bae119a0d",
   "metadata": {},
   "outputs": [
    {
     "name": "stdout",
     "output_type": "stream",
     "text": [
      "Writing examples/usd_beginner_guide/sublayer_example_3_same_prim/turn_red.usda\n"
     ]
    }
   ],
   "source": [
    "%%file examples/usd_beginner_guide/sublayer_example_3_same_prim/turn_red.usda\n",
    "#usda 1.0\n",
    "\n",
    "# This layer has no meaning on its own, it's supposed to be sublayered.\n",
    "over \"a_cube\"\n",
    "{\n",
    "    color3f[] primvars:displayColor = [(1, 0, 0)] (\n",
    "        interpolation = \"constant\"\n",
    "    )\n",
    "}"
   ]
  },
  {
   "cell_type": "code",
   "execution_count": 32,
   "id": "94e2c6b2-caaf-4e13-bf6a-d760e7658a84",
   "metadata": {},
   "outputs": [
    {
     "name": "stdout",
     "output_type": "stream",
     "text": [
      "Writing examples/usd_beginner_guide/sublayer_example_3_same_prim/sublayer_two_cubes.usda\n"
     ]
    }
   ],
   "source": [
    "%%file examples/usd_beginner_guide/sublayer_example_3_same_prim/sublayer_two_cubes.usda\n",
    "#usda 1.0\n",
    "\n",
    "# we can use sub-layers to author opnions / alter properties.\n",
    "(\n",
    "    subLayers = [\n",
    "        @./turn_red.usda@,\n",
    "        @./a_blue_cube.usda@,\n",
    "    ]\n",
    ")"
   ]
  },
  {
   "cell_type": "markdown",
   "id": "2ff1461b-5167-48df-a2e1-a50f6c96b1e7",
   "metadata": {},
   "source": [
    "**Result**: Notice the layer stack.\n",
    "![](../resources/getting_started_guide/sublayer_example_3_same_prims.png)"
   ]
  },
  {
   "cell_type": "markdown",
   "id": "72d204ab-b2ae-42a0-b592-1744769f4beb",
   "metadata": {},
   "source": [
    "#### **Reference**\n",
    "References are used to refer to other prims either in the same layer or in another layer.\n",
    "\n",
    "**Example 1: Reference a layer**"
   ]
  },
  {
   "cell_type": "code",
   "execution_count": 34,
   "id": "2dd30d48-052c-4de9-9986-3797cb8e8786",
   "metadata": {},
   "outputs": [
    {
     "name": "stdout",
     "output_type": "stream",
     "text": [
      "Writing examples/usd_beginner_guide/reference_example_1_reference_a_layer/a_sphere.usda\n"
     ]
    }
   ],
   "source": [
    "%%file examples/usd_beginner_guide/reference_example_1_reference_a_layer/a_sphere.usda\n",
    "#usda 1.0\n",
    "\n",
    "def Sphere \"a_sphere\"\n",
    "{}"
   ]
  },
  {
   "cell_type": "code",
   "execution_count": 35,
   "id": "2d90a90b-d2ea-47c0-8b48-6876c98bec49",
   "metadata": {},
   "outputs": [
    {
     "name": "stdout",
     "output_type": "stream",
     "text": [
      "Writing examples/usd_beginner_guide/reference_example_1_reference_a_layer/reference_a_sphere.usda\n"
     ]
    }
   ],
   "source": [
    "%%file examples/usd_beginner_guide/reference_example_1_reference_a_layer/reference_a_sphere.usda\n",
    "#usda 1.0\n",
    "\n",
    "# referencing is done by choosing your layer followed by\n",
    "# the desired prim to be referenced.\n",
    "def \"sphere_01\"(\n",
    "    prepend references = @./a_sphere.usda@</a_sphere> \n",
    ")\n",
    "{} \n",
    "# you can reference the same Prim as much as you want.\n",
    "def \"sphere_02\"(\n",
    "    prepend references = @./a_sphere.usda@</a_sphere>\n",
    ")\n",
    "{\n",
    "    double3 xformOp:translate = (0.0, 0.0, 2.0)\n",
    "    uniform token[] xformOpOrder = [\"xformOp:translate\"]\n",
    "} \n",
    "def \"sphere_03\"(\n",
    "    prepend references = @./a_sphere.usda@</a_sphere>\n",
    ")\n",
    "{\n",
    "    double3 xformOp:translate = (0.0, 0.0, 4.0)\n",
    "    uniform token[] xformOpOrder = [\"xformOp:translate\"]\n",
    "} \n",
    "def \"sphere_04\"(\n",
    "    prepend references = @./a_sphere.usda@</a_sphere>\n",
    ")\n",
    "{\n",
    "    double3 xformOp:translate = (0.0, 0.0, 6.0)\n",
    "    uniform token[] xformOpOrder = [\"xformOp:translate\"]\n",
    "} "
   ]
  },
  {
   "cell_type": "markdown",
   "id": "8b640e12-8902-4601-95e4-ee7228232088",
   "metadata": {},
   "source": [
    "**Result**:\n",
    "![](../resources/getting_started_guide/reference_example_1_reference_a_layer.png)\n",
    "\n",
    "\n",
    "**Example 2: Reference and Sublayer**"
   ]
  },
  {
   "cell_type": "code",
   "execution_count": 36,
   "id": "64eadfcf-28b6-407b-a331-59fe9a4e39b3",
   "metadata": {},
   "outputs": [
    {
     "name": "stdout",
     "output_type": "stream",
     "text": [
      "Writing examples/usd_beginner_guide/reference_example_2_reference_and_sublayer/a_sphere.usda\n"
     ]
    }
   ],
   "source": [
    "%%file examples/usd_beginner_guide/reference_example_2_reference_and_sublayer/a_sphere.usda\n",
    "#usda 1.0\n",
    "\n",
    "def Sphere \"a_sphere\"\n",
    "{\n",
    "    double3 xformOp:translate = (0.0, 1.0, 0.0)\n",
    "    uniform token[] xformOpOrder = [\"xformOp:translate\"]\n",
    "}"
   ]
  },
  {
   "cell_type": "code",
   "execution_count": 37,
   "id": "ddb37afd-27e9-4a09-99ec-6718f176d975",
   "metadata": {},
   "outputs": [
    {
     "name": "stdout",
     "output_type": "stream",
     "text": [
      "Writing examples/usd_beginner_guide/reference_example_2_reference_and_sublayer/reference_and_sublayer_a_sphere.usda\n"
     ]
    }
   ],
   "source": [
    "%%file examples/usd_beginner_guide/reference_example_2_reference_and_sublayer/reference_and_sublayer_a_sphere.usda\n",
    "#usda 1.0\n",
    "\n",
    "(\n",
    "    # I can't add this sublayer more that once.\n",
    "    # I can't modify the sublayer here even I can't rename it. \n",
    "    # any modifications should be done in the original layer usd file.\n",
    "    subLayers = [\n",
    "        @./a_sphere.usda@\n",
    "    ]\n",
    ")\n",
    "\n",
    "# But I can reference it as many times. \n",
    "# Note that my reference transform overrides the original layer transform.\n",
    "def \"sphere_02\"(\n",
    "    prepend references  = @./a_sphere.usda@</a_sphere>\n",
    ")\n",
    "{\n",
    "    double3 xformOp:translate = (0.0, 0.0, 2.0)\n",
    "    uniform token[] xformOpOrder = [\"xformOp:translate\"]\n",
    "} \n",
    "def \"sphere_03\"(\n",
    "    prepend references  = @./a_sphere.usda@</a_sphere>\n",
    ")\n",
    "{\n",
    "    double3 xformOp:translate = (0.0, 0.0, 4.0)\n",
    "    uniform token[] xformOpOrder = [\"xformOp:translate\"]\n",
    "} \n",
    "def \"sphere_04\"(\n",
    "    prepend references  = @./a_sphere.usda@</a_sphere>\n",
    ")\n",
    "{\n",
    "    double3 xformOp:translate = (0.0, 0.0, 6.0)\n",
    "    uniform token[] xformOpOrder = [\"xformOp:translate\"]\n",
    "} "
   ]
  },
  {
   "cell_type": "markdown",
   "id": "4dc5e33a-a8bd-4ea9-9995-18e51e4c8f41",
   "metadata": {},
   "source": [
    "**Result**:\n",
    "![](../resources/getting_started_guide/reference_example_2_reference_and_sublayer.png)\n",
    "\n",
    "#### **Payload**\n",
    "\n",
    "A reference that can be loaded in a deferred way.\n",
    "\n",
    "**Example 1: payload a layer**"
   ]
  },
  {
   "cell_type": "code",
   "execution_count": 39,
   "id": "b8b3c2d4-e35c-4169-9a84-9b4c08afda05",
   "metadata": {},
   "outputs": [
    {
     "name": "stdout",
     "output_type": "stream",
     "text": [
      "Writing examples/usd_beginner_guide/payload_example/a_sphere.usda\n"
     ]
    }
   ],
   "source": [
    "%%file examples/usd_beginner_guide/payload_example/a_sphere.usda\n",
    "#usda 1.0\n",
    "\n",
    "def Sphere \"a_sphere\"\n",
    "{}"
   ]
  },
  {
   "cell_type": "code",
   "execution_count": 40,
   "id": "c84d91b0-8c40-4bca-971d-e319a284c27b",
   "metadata": {},
   "outputs": [
    {
     "name": "stdout",
     "output_type": "stream",
     "text": [
      "Writing examples/usd_beginner_guide/payload_example/payload_a_sphere.usda\n"
     ]
    }
   ],
   "source": [
    "%%file examples/usd_beginner_guide/payload_example/payload_a_sphere.usda\n",
    "#usda 1.0\n",
    "\n",
    "# referencing is done by choosing your layer followed by\n",
    "# the desired prim to be referenced.\n",
    "def \"sphere_01\"(\n",
    "    prepend payload = @./a_sphere.usda@</a_sphere> \n",
    ")\n",
    "{} \n",
    "# you can reference the same Prim as much as you want.\n",
    "def \"sphere_02\"(\n",
    "    prepend payload = @./a_sphere.usda@</a_sphere>\n",
    ")\n",
    "{\n",
    "    double3 xformOp:translate = (0.0, 0.0, 2.0)\n",
    "    uniform token[] xformOpOrder = [\"xformOp:translate\"]\n",
    "} \n",
    "def \"sphere_03\"(\n",
    "    prepend payload = @./a_sphere.usda@</a_sphere>\n",
    ")\n",
    "{\n",
    "    double3 xformOp:translate = (0.0, 0.0, 4.0)\n",
    "    uniform token[] xformOpOrder = [\"xformOp:translate\"]\n",
    "} \n",
    "def \"sphere_04\"(\n",
    "    prepend payload = @./a_sphere.usda@</a_sphere>\n",
    ")\n",
    "{\n",
    "    double3 xformOp:translate = (0.0, 0.0, 6.0)\n",
    "    uniform token[] xformOpOrder = [\"xformOp:translate\"]\n",
    "} "
   ]
  },
  {
   "cell_type": "markdown",
   "id": "690e54f3-3415-4e45-b137-6db1376a3086",
   "metadata": {},
   "source": [
    "**Result:**\n",
    "![](../resources/getting_started_guide/payload_example.gif)"
   ]
  },
  {
   "cell_type": "markdown",
   "id": "a2cc8d92-afe4-424b-9c28-8da8eed3dc58",
   "metadata": {},
   "source": [
    "#### **Inherit**\n",
    "\n",
    "A reference that used to point to other prims in the same layer.\n",
    "\n",
    "**Example 1: Inherit a Prim**"
   ]
  },
  {
   "cell_type": "code",
   "execution_count": 44,
   "id": "fa4b111c-53d0-489c-8857-b64980aac8dc",
   "metadata": {},
   "outputs": [
    {
     "name": "stdout",
     "output_type": "stream",
     "text": [
      "Writing examples/usd_beginner_guide/inherit_example_1_inherit_a_prim/inherit_a_prim.usda\n"
     ]
    }
   ],
   "source": [
    "%%file examples/usd_beginner_guide/inherit_example_1_inherit_a_prim/inherit_a_prim.usda\n",
    "#usda 1.0\n",
    "\n",
    "# Inherits only point to a prim that exist in same layer.\n",
    "# I'll define a sphere to inherit later.\n",
    "def Sphere \"a_sphere\" \n",
    "{\n",
    "    double3 xformOp:translate = (0.0, 1.0, 0.0)\n",
    "    uniform token[] xformOpOrder = [\"xformOp:translate\"]\n",
    "}\n",
    "\n",
    "\n",
    "# you can inherit the same Prim as much as you want.\n",
    "def \"sphere_02\"(\n",
    "    prepend inherits = </a_sphere>\n",
    ")\n",
    "{\n",
    "    # I can override its properties! \n",
    "    color3f[] primvars:displayColor = [(0, 0, 1)] (\n",
    "        interpolation = \"constant\"\n",
    "    )\n",
    "    double3 xformOp:translate = (0.0, 0.0, 2.0)\n",
    "    uniform token[] xformOpOrder = [\"xformOp:translate\"]\n",
    "} \n",
    "def \"sphere_03\"(\n",
    "    prepend inherits = </a_sphere>\n",
    ")\n",
    "{\n",
    "    double3 xformOp:translate = (0.0, 0.0, 4.0)\n",
    "    uniform token[] xformOpOrder = [\"xformOp:translate\"]\n",
    "} \n",
    "def \"sphere_04\"(\n",
    "    prepend inherits = </a_sphere>\n",
    ")\n",
    "{\n",
    "    double3 xformOp:translate = (0.0, 0.0, 6.0)\n",
    "    uniform token[] xformOpOrder = [\"xformOp:translate\"]\n",
    "} "
   ]
  },
  {
   "cell_type": "markdown",
   "id": "1be48921-0138-4350-bac0-5013f279adaa",
   "metadata": {},
   "source": [
    "**Result:**\n",
    "\n",
    "![](../resources/getting_started_guide/inherit_example_1_inherit_a_prim.png)\n",
    "\n",
    "**Example 2: Inherit a Prim from a referenced layer**"
   ]
  },
  {
   "cell_type": "code",
   "execution_count": 48,
   "id": "11c6ebfb-9b72-4038-bb52-d92fb3479064",
   "metadata": {},
   "outputs": [
    {
     "name": "stdout",
     "output_type": "stream",
     "text": [
      "Overwriting examples/usd_beginner_guide/inherit_example_2_inherit_a_referenced_layer/a_sphere.usda\n"
     ]
    }
   ],
   "source": [
    "%%file examples/usd_beginner_guide/inherit_example_2_inherit_a_referenced_layer/a_sphere.usda\n",
    "#usda 1.0\n",
    "\n",
    "def Sphere \"a_sphere\"\n",
    "{\n",
    "    double3 xformOp:translate = (0.0, 1.0, 0.0)\n",
    "    uniform token[] xformOpOrder = [\"xformOp:translate\"]\n",
    "}"
   ]
  },
  {
   "cell_type": "code",
   "execution_count": 83,
   "id": "9cd3feef-a09e-4d21-a003-b135ef58e344",
   "metadata": {},
   "outputs": [
    {
     "name": "stdout",
     "output_type": "stream",
     "text": [
      "Overwriting examples/usd_beginner_guide/inherit_example_2_inherit_a_referenced_layer/inherit_a_referenced_layer.usda\n"
     ]
    }
   ],
   "source": [
    "%%file examples/usd_beginner_guide/inherit_example_2_inherit_a_referenced_layer/inherit_a_referenced_layer.usda\n",
    "#usda 1.0\n",
    "\n",
    "# Inherits only point to a prim that exist in same layer.\n",
    "# In order to inherit a prim from other layers, we need to reference it first.\n",
    "def \"a_sphere\" (\n",
    "    prepend references  = @./a_sphere.usda@</a_sphere>\n",
    ")\n",
    "{}\n",
    "\n",
    "\n",
    "# you can inherit the same Prim as much as you want.\n",
    "def \"sphere_02\"(\n",
    "    prepend inherits = </a_sphere>\n",
    ")\n",
    "{\n",
    "    # I can override its properties! \n",
    "    color3f[] primvars:displayColor = [(0, 0, 1)] (\n",
    "        interpolation = \"constant\"\n",
    "    )\n",
    "    double3 xformOp:translate = (0.0, 0.0, 2.0)\n",
    "    uniform token[] xformOpOrder = [\"xformOp:translate\"]\n",
    "} \n",
    "def \"sphere_03\"(\n",
    "    prepend inherits = </a_sphere>\n",
    ")\n",
    "{\n",
    "    double3 xformOp:translate = (0.0, 0.0, 4.0)\n",
    "    uniform token[] xformOpOrder = [\"xformOp:translate\"]\n",
    "} \n",
    "def \"sphere_04\"(\n",
    "    prepend inherits = </a_sphere>\n",
    ")\n",
    "{\n",
    "    double3 xformOp:translate = (0.0, 0.0, 6.0)\n",
    "    uniform token[] xformOpOrder = [\"xformOp:translate\"]\n",
    "} "
   ]
  },
  {
   "cell_type": "markdown",
   "id": "716c6de3-535f-44e8-9b87-fc9e9833e8e4",
   "metadata": {},
   "source": [
    "**Result:**\n",
    "![](../resources/getting_started_guide/inherit_example_2_inherit_a_referenced_layer.png)\n",
    "\n",
    "**Example 3: Inherit a Prim Class from a referenced layer**\n",
    "This is how we mostly use inherits."
   ]
  },
  {
   "cell_type": "code",
   "execution_count": 50,
   "id": "044a1436-d3ea-403d-aa76-46a00fe0eddd",
   "metadata": {},
   "outputs": [
    {
     "name": "stdout",
     "output_type": "stream",
     "text": [
      "Writing examples/usd_beginner_guide/inherit_example_3_inherit_a_prim_class/a_sphere.usda\n"
     ]
    }
   ],
   "source": [
    "%%file examples/usd_beginner_guide/inherit_example_3_inherit_a_prim_class/a_sphere.usda\n",
    "#usda 1.0\n",
    "\n",
    "def Sphere \"a_sphere\"\n",
    "{\n",
    "    double3 xformOp:translate = (0.0, 1.0, 0.0)\n",
    "    uniform token[] xformOpOrder = [\"xformOp:translate\"]\n",
    "}"
   ]
  },
  {
   "cell_type": "code",
   "execution_count": 51,
   "id": "2ce2817e-6137-4df5-9c34-cf0e5bc39acb",
   "metadata": {},
   "outputs": [
    {
     "name": "stdout",
     "output_type": "stream",
     "text": [
      "Writing examples/usd_beginner_guide/inherit_example_3_inherit_a_prim_class/inherit_a_sphere.usda\n"
     ]
    }
   ],
   "source": [
    "%%file examples/usd_beginner_guide/inherit_example_3_inherit_a_prim_class/inherit_a_sphere.usda\n",
    "#usda 1.0\n",
    "\n",
    "# Defining my prim class from a referenced layer.\n",
    "class \"_class_RedSpherePrimClass\" (\n",
    "    prepend references = @./a_sphere.usda@</a_sphere>\n",
    ")\n",
    "{\n",
    "    # Here, I can override its properties for all inherits in this file\n",
    "    color3f[] primvars:displayColor = [(1, 0, 0)] (\n",
    "        interpolation = \"constant\"\n",
    "    )\n",
    "}\n",
    "\n",
    "\n",
    "def \"sphere_01\"(\n",
    "    prepend inherits = </_class_RedSpherePrimClass> \n",
    ")\n",
    "{} \n",
    "# you can inherit the same Prim as much as you want.\n",
    "def \"sphere_02\"(\n",
    "    prepend inherits = </_class_RedSpherePrimClass>\n",
    ")\n",
    "{\n",
    "    # Here, I can override its properties for this specific inherit\n",
    "    color3f[] primvars:displayColor = [(0, 0, 1)] (\n",
    "        interpolation = \"constant\"\n",
    "    )\n",
    "    double3 xformOp:translate = (0.0, 0.0, 2.0)\n",
    "    uniform token[] xformOpOrder = [\"xformOp:translate\"]\n",
    "} \n",
    "def \"sphere_03\"(\n",
    "    prepend inherits = </_class_RedSpherePrimClass>\n",
    ")\n",
    "{\n",
    "    double3 xformOp:translate = (0.0, 0.0, 4.0)\n",
    "    uniform token[] xformOpOrder = [\"xformOp:translate\"]\n",
    "} \n",
    "def \"sphere_04\"(\n",
    "    prepend inherits = </_class_RedSpherePrimClass>\n",
    ")\n",
    "{\n",
    "    double3 xformOp:translate = (0.0, 0.0, 6.0)\n",
    "    uniform token[] xformOpOrder = [\"xformOp:translate\"]\n",
    "} "
   ]
  },
  {
   "cell_type": "markdown",
   "id": "8699a6dd-8321-4251-a6a5-8ed8efd4b549",
   "metadata": {},
   "source": [
    "**Result:**\n",
    "![](../resources/getting_started_guide/inherit_example_3_inherit_a_prim_class.png)\n",
    "\n",
    "**Example 4 : Inherit and override prim class**"
   ]
  },
  {
   "cell_type": "code",
   "execution_count": 53,
   "id": "e5860225-d37b-4c5e-82d2-53bcb9e93bfa",
   "metadata": {},
   "outputs": [
    {
     "name": "stdout",
     "output_type": "stream",
     "text": [
      "Writing examples/usd_beginner_guide/inherit_example_4_inherit_and_override_class/a_sphere.usda\n"
     ]
    }
   ],
   "source": [
    "%%file examples/usd_beginner_guide/inherit_example_4_inherit_and_override_class/a_sphere.usda\n",
    "#usda 1.0\n",
    "\n",
    "def Sphere \"a_sphere\"\n",
    "{\n",
    "    double3 xformOp:translate = (0.0, 1.0, 0.0)\n",
    "    uniform token[] xformOpOrder = [\"xformOp:translate\"]\n",
    "}"
   ]
  },
  {
   "cell_type": "code",
   "execution_count": 54,
   "id": "6b883b9f-12af-4f36-a9fc-c76045a0d613",
   "metadata": {},
   "outputs": [
    {
     "name": "stdout",
     "output_type": "stream",
     "text": [
      "Writing examples/usd_beginner_guide/inherit_example_4_inherit_and_override_class/inherit_a_sphere.usda\n"
     ]
    }
   ],
   "source": [
    "%%file examples/usd_beginner_guide/inherit_example_4_inherit_and_override_class/inherit_a_sphere.usda\n",
    "#usda 1.0\n",
    "\n",
    "# Defining my prim class from a referenced layer.\n",
    "class \"_class_RedSpherePrimClass\" (\n",
    "    prepend references = @./a_sphere.usda@</a_sphere>\n",
    ")\n",
    "{\n",
    "    # Here, I can override its properties for all inherits in this file\n",
    "    color3f[] primvars:displayColor = [(1, 0, 0)] (\n",
    "        interpolation = \"constant\"\n",
    "    )\n",
    "}\n",
    "\n",
    "\n",
    "def \"sphere_01\"(\n",
    "    prepend inherits = </_class_RedSpherePrimClass> \n",
    ")\n",
    "{} \n",
    "# you can inherit the same Prim as much as you want.\n",
    "def \"sphere_02\"(\n",
    "    prepend inherits = </_class_RedSpherePrimClass>\n",
    ")\n",
    "{\n",
    "    # Here, I can override its properties for this specific inherit\n",
    "    color3f[] primvars:displayColor = [(0, 0, 1)] (\n",
    "        interpolation = \"constant\"\n",
    "    )\n",
    "    double3 xformOp:translate = (0.0, 0.0, 2.0)\n",
    "    uniform token[] xformOpOrder = [\"xformOp:translate\"]\n",
    "} \n",
    "def \"sphere_03\"(\n",
    "    prepend inherits = </_class_RedSpherePrimClass>\n",
    ")\n",
    "{\n",
    "    double3 xformOp:translate = (0.0, 0.0, 4.0)\n",
    "    uniform token[] xformOpOrder = [\"xformOp:translate\"]\n",
    "} \n",
    "def \"sphere_04\"(\n",
    "    prepend inherits = </_class_RedSpherePrimClass>\n",
    ")\n",
    "{\n",
    "    double3 xformOp:translate = (0.0, 0.0, 6.0)\n",
    "    uniform token[] xformOpOrder = [\"xformOp:translate\"]\n",
    "}"
   ]
  },
  {
   "cell_type": "code",
   "execution_count": 55,
   "id": "283de0dd-000e-4757-8771-6b2fd67aed60",
   "metadata": {},
   "outputs": [
    {
     "name": "stdout",
     "output_type": "stream",
     "text": [
      "Writing examples/usd_beginner_guide/inherit_example_4_inherit_and_override_class/turn_sphere_class_green.usda\n"
     ]
    }
   ],
   "source": [
    "%%file examples/usd_beginner_guide/inherit_example_4_inherit_and_override_class/turn_sphere_class_green.usda\n",
    "#usda 1.0\n",
    "\n",
    "# Defining my prim class from a referenced layer.\n",
    "over \"_class_RedSpherePrimClass\" (\n",
    "    prepend references = @./a_sphere.usda@</a_sphere>\n",
    ")\n",
    "{\n",
    "    # Here, I can override its properties for all inherits in this file\n",
    "    color3f[] primvars:displayColor = [(0, 1, 0)] (\n",
    "        interpolation = \"constant\"\n",
    "    )\n",
    "}"
   ]
  },
  {
   "cell_type": "code",
   "execution_count": 56,
   "id": "4d9f89fb-4a30-4a7d-af7a-9ae4c94a4201",
   "metadata": {},
   "outputs": [
    {
     "name": "stdout",
     "output_type": "stream",
     "text": [
      "Writing examples/usd_beginner_guide/inherit_example_4_inherit_and_override_class/sub_layer_inherit_and_modification.usda\n"
     ]
    }
   ],
   "source": [
    "%%file examples/usd_beginner_guide/inherit_example_4_inherit_and_override_class/sub_layer_inherit_and_modification.usda\n",
    "#usda 1.0\n",
    "\n",
    "(\n",
    "    subLayers = [\n",
    "        @./turn_sphere_class_green.usda@,\n",
    "        @./inherit_a_sphere.usda@,\n",
    "    ]\n",
    ")"
   ]
  },
  {
   "cell_type": "markdown",
   "id": "9f505be9-f5b1-49b9-8b12-a6a2a1c826fb",
   "metadata": {},
   "source": [
    "**Result:** Notice the layer stack\n",
    "![](../resources/getting_started_guide/inherit_example_4_inherit_and_override_class.png)\n",
    "\n",
    "**Example 5 : Inherit and override individual prims**"
   ]
  },
  {
   "cell_type": "code",
   "execution_count": 57,
   "id": "b40aca86-1a5f-4061-869d-4d64a2d6291c",
   "metadata": {},
   "outputs": [
    {
     "name": "stdout",
     "output_type": "stream",
     "text": [
      "Writing examples/usd_beginner_guide/inherit_example_5_inherit_and_override_individual_prims/a_sphere.usda\n"
     ]
    }
   ],
   "source": [
    "%%file examples/usd_beginner_guide/inherit_example_5_inherit_and_override_individual_prims/a_sphere.usda\n",
    "#usda 1.0\n",
    "\n",
    "def Sphere \"a_sphere\"\n",
    "{\n",
    "    double3 xformOp:translate = (0.0, 1.0, 0.0)\n",
    "    uniform token[] xformOpOrder = [\"xformOp:translate\"]\n",
    "}"
   ]
  },
  {
   "cell_type": "code",
   "execution_count": 58,
   "id": "3e599c28-b2af-499b-8325-e8b7ad3b5e77",
   "metadata": {},
   "outputs": [
    {
     "name": "stdout",
     "output_type": "stream",
     "text": [
      "Writing examples/usd_beginner_guide/inherit_example_5_inherit_and_override_individual_prims/inherit_a_sphere.usda\n"
     ]
    }
   ],
   "source": [
    "%%file examples/usd_beginner_guide/inherit_example_5_inherit_and_override_individual_prims/inherit_a_sphere.usda\n",
    "#usda 1.0\n",
    "\n",
    "# Defining my prim class from a referenced layer.\n",
    "class \"_class_RedSpherePrimClass\" (\n",
    "    prepend references = @./a_sphere.usda@</a_sphere>\n",
    ")\n",
    "{\n",
    "    # Here, I can override its properties for all inherits in this file\n",
    "    color3f[] primvars:displayColor = [(1, 0, 0)] (\n",
    "        interpolation = \"constant\"\n",
    "    )\n",
    "}\n",
    "\n",
    "\n",
    "def \"sphere_01\"(\n",
    "    prepend inherits = </_class_RedSpherePrimClass> \n",
    ")\n",
    "{} \n",
    "# you can inherit the same Prim as much as you want.\n",
    "def \"sphere_02\"(\n",
    "    prepend inherits = </_class_RedSpherePrimClass>\n",
    ")\n",
    "{\n",
    "    # Here, I can override its properties for this specific inherit\n",
    "    color3f[] primvars:displayColor = [(0, 0, 1)] (\n",
    "        interpolation = \"constant\"\n",
    "    )\n",
    "    double3 xformOp:translate = (0.0, 0.0, 2.0)\n",
    "    uniform token[] xformOpOrder = [\"xformOp:translate\"]\n",
    "} \n",
    "def \"sphere_03\"(\n",
    "    prepend inherits = </_class_RedSpherePrimClass>\n",
    ")\n",
    "{\n",
    "    double3 xformOp:translate = (0.0, 0.0, 4.0)\n",
    "    uniform token[] xformOpOrder = [\"xformOp:translate\"]\n",
    "} \n",
    "def \"sphere_04\"(\n",
    "    prepend inherits = </_class_RedSpherePrimClass>\n",
    ")\n",
    "{\n",
    "    double3 xformOp:translate = (0.0, 0.0, 6.0)\n",
    "    uniform token[] xformOpOrder = [\"xformOp:translate\"]\n",
    "} "
   ]
  },
  {
   "cell_type": "code",
   "execution_count": 84,
   "id": "4e11e5ec-b36d-4a18-a027-e7078662c4c7",
   "metadata": {},
   "outputs": [
    {
     "name": "stdout",
     "output_type": "stream",
     "text": [
      "Overwriting examples/usd_beginner_guide/inherit_example_5_inherit_and_override_individual_prims/turn_spheres_green.usda\n"
     ]
    }
   ],
   "source": [
    "%%file examples/usd_beginner_guide/inherit_example_5_inherit_and_override_individual_prims/turn_spheres_green.usda\n",
    "#usda 1.0\n",
    "\n",
    "\n",
    "over \"sphere_01\"\n",
    "{\n",
    "    color3f[] primvars:displayColor = [(0, 1, 0)] (\n",
    "        interpolation = \"constant\"\n",
    "    )\n",
    "}\n",
    "over \"sphere_02\"\n",
    "{\n",
    "    color3f[] primvars:displayColor = [(0, 1, 0)] (\n",
    "        interpolation = \"constant\"\n",
    "    )\n",
    "}\n",
    "over \"sphere_03\"\n",
    "{\n",
    "    color3f[] primvars:displayColor = [(0, 1, 0)] (\n",
    "        interpolation = \"constant\"\n",
    "    )\n",
    "}\n",
    "over \"sphere_04\"\n",
    "{\n",
    "    color3f[] primvars:displayColor = [(0, 1, 0)] (\n",
    "        interpolation = \"constant\"\n",
    "    )\n",
    "}"
   ]
  },
  {
   "cell_type": "code",
   "execution_count": 85,
   "id": "aa71e0ea-3784-46d5-9b1c-affd67091a69",
   "metadata": {},
   "outputs": [
    {
     "name": "stdout",
     "output_type": "stream",
     "text": [
      "Overwriting examples/usd_beginner_guide/inherit_example_5_inherit_and_override_individual_prims/sub_layer_inherit_and_modification.usda\n"
     ]
    }
   ],
   "source": [
    "%%file examples/usd_beginner_guide/inherit_example_5_inherit_and_override_individual_prims/sub_layer_inherit_and_modification.usda\n",
    "#usda 1.0\n",
    "\n",
    "(\n",
    "    subLayers = [\n",
    "        @./turn_spheres_green.usda@,\n",
    "        @./inherit_a_sphere.usda@,\n",
    "    ]\n",
    ")"
   ]
  },
  {
   "cell_type": "markdown",
   "id": "97320413-a4c7-4ee8-bce6-1bed8f9b8300",
   "metadata": {},
   "source": [
    "**Result:**\n",
    "![](../resources/getting_started_guide/inherit_example_5_inherit_and_override_individual_prims.png)\n",
    "\n",
    "**Example 6: Inherit and override original prim**\n",
    "\n",
    "Inherits works better with `class` but what happens if we used a normal `prim` ? .. let's find out."
   ]
  },
  {
   "cell_type": "code",
   "execution_count": 61,
   "id": "fbca9e84-e013-470d-b149-ef7db77f030f",
   "metadata": {},
   "outputs": [
    {
     "name": "stdout",
     "output_type": "stream",
     "text": [
      "Writing examples/usd_beginner_guide/inherit_example_6_inherit_and_override_original_prim/a_sphere.usda\n"
     ]
    }
   ],
   "source": [
    "%%file examples/usd_beginner_guide/inherit_example_6_inherit_and_override_original_prim/a_sphere.usda\n",
    "#usda 1.0\n",
    "\n",
    "def Sphere \"a_sphere\"\n",
    "{\n",
    "    double3 xformOp:translate = (0.0, 1.0, 0.0)\n",
    "    uniform token[] xformOpOrder = [\"xformOp:translate\"]\n",
    "}"
   ]
  },
  {
   "cell_type": "code",
   "execution_count": 62,
   "id": "c0dbe3c4-55b7-4bbe-b211-192a6088d27f",
   "metadata": {},
   "outputs": [
    {
     "name": "stdout",
     "output_type": "stream",
     "text": [
      "Writing examples/usd_beginner_guide/inherit_example_6_inherit_and_override_original_prim/inherit_a_sphere.usda\n"
     ]
    }
   ],
   "source": [
    "%%file examples/usd_beginner_guide/inherit_example_6_inherit_and_override_original_prim/inherit_a_sphere.usda\n",
    "#usda 1.0\n",
    "\n",
    "def \"a_sphere\" (\n",
    "    prepend references = @./a_sphere.usda@</a_sphere>\n",
    ")\n",
    "{\n",
    "    # Here, I can override its properties for all inherits in this file\n",
    "    color3f[] primvars:displayColor = [(1, 0, 0)] (\n",
    "        interpolation = \"constant\"\n",
    "    )\n",
    "}\n",
    "\n",
    "\n",
    "def \"sphere_01\"(\n",
    "    prepend inherits = </a_sphere> \n",
    ")\n",
    "{} \n",
    "# you can inherit the same Prim as much as you want.\n",
    "def \"sphere_02\"(\n",
    "    prepend inherits = </a_sphere>\n",
    ")\n",
    "{\n",
    "    # Here, I can override its properties for this specific inherit\n",
    "    color3f[] primvars:displayColor = [(0, 0, 1)] (\n",
    "        interpolation = \"constant\"\n",
    "    )\n",
    "    double3 xformOp:translate = (0.0, 0.0, 2.0)\n",
    "    uniform token[] xformOpOrder = [\"xformOp:translate\"]\n",
    "} \n",
    "def \"sphere_03\"(\n",
    "    prepend inherits = </a_sphere>\n",
    ")\n",
    "{\n",
    "    double3 xformOp:translate = (0.0, 0.0, 4.0)\n",
    "    uniform token[] xformOpOrder = [\"xformOp:translate\"]\n",
    "} \n",
    "def \"sphere_04\"(\n",
    "    prepend inherits = </a_sphere>\n",
    ")\n",
    "{\n",
    "    double3 xformOp:translate = (0.0, 0.0, 6.0)\n",
    "    uniform token[] xformOpOrder = [\"xformOp:translate\"]\n",
    "} "
   ]
  },
  {
   "cell_type": "code",
   "execution_count": 63,
   "id": "ae4c7d6c-f3c7-4442-bbcc-ba9ddb6cde18",
   "metadata": {},
   "outputs": [
    {
     "name": "stdout",
     "output_type": "stream",
     "text": [
      "Writing examples/usd_beginner_guide/inherit_example_6_inherit_and_override_original_prim/reference_my_spheres.usda\n"
     ]
    }
   ],
   "source": [
    "%%file examples/usd_beginner_guide/inherit_example_6_inherit_and_override_original_prim/reference_my_spheres.usda\n",
    "#usda 1.0\n",
    "\n",
    "\n",
    "def \"sphere_01\"(\n",
    "    prepend references = @./inherit_a_sphere.usda@</sphere_01>\n",
    ")\n",
    "{} \n",
    "\n",
    "def \"sphere_02\"(\n",
    "    prepend references = @./inherit_a_sphere.usda@</sphere_02>\n",
    ")\n",
    "{} \n",
    "\n",
    "def \"sphere_03\"(\n",
    "    prepend references = @./inherit_a_sphere.usda@</sphere_03>\n",
    ")\n",
    "{}\n",
    "\n",
    "def \"sphere_04\"(\n",
    "    prepend references = @./inherit_a_sphere.usda@</sphere_04>\n",
    ")\n",
    "{} "
   ]
  },
  {
   "cell_type": "code",
   "execution_count": 64,
   "id": "f85c217f-0357-471e-9f19-8be2ce465c60",
   "metadata": {},
   "outputs": [
    {
     "name": "stdout",
     "output_type": "stream",
     "text": [
      "Writing examples/usd_beginner_guide/inherit_example_6_inherit_and_override_original_prim/turn_original_sphere_green.usda\n"
     ]
    }
   ],
   "source": [
    "%%file examples/usd_beginner_guide/inherit_example_6_inherit_and_override_original_prim/turn_original_sphere_green.usda\n",
    "#usda 1.0\n",
    "\n",
    "over \"a_sphere\"\n",
    "{\n",
    "    color3f[] primvars:displayColor = [(0, 1, 0)] (\n",
    "        interpolation = \"constant\"\n",
    "    )\n",
    "}"
   ]
  },
  {
   "cell_type": "code",
   "execution_count": 65,
   "id": "dabd671d-3894-424c-a2b6-ae3fbbdb5de9",
   "metadata": {},
   "outputs": [
    {
     "name": "stdout",
     "output_type": "stream",
     "text": [
      "Writing examples/usd_beginner_guide/inherit_example_6_inherit_and_override_original_prim/sub_layer_inherit_and_modification.usda\n"
     ]
    }
   ],
   "source": [
    "%%file examples/usd_beginner_guide/inherit_example_6_inherit_and_override_original_prim/sub_layer_inherit_and_modification.usda\n",
    "#usda 1.0\n",
    "\n",
    "(\n",
    "    subLayers = [\n",
    "        @./turn_original_sphere_green.usda@,\n",
    "        @./reference_my_spheres.usda@,\n",
    "    ]\n",
    ")"
   ]
  },
  {
   "cell_type": "markdown",
   "id": "250067ef-48e1-4fdb-9a8f-50c243bae3a3",
   "metadata": {},
   "source": [
    "**Result:**\n",
    "![](../resources/getting_started_guide/inherit_example_6_inherit_and_override_original_prim.png)"
   ]
  },
  {
   "cell_type": "markdown",
   "id": "defb8866-e64d-474f-a91f-705ac14c8014",
   "metadata": {},
   "source": [
    "#### **Specialize**\n",
    "\n",
    "They are similar to inherits. but, a little different!\n",
    "\n",
    "we don't use `class` with **specialize**.\n",
    "\n",
    "**Example 1: specialize and override original prim**\n",
    "\n",
    "> Although, this is exactly the previous **Example 6: Inherit and override original prim** (we only replace `inherits` with `specializes`) . But, it works in a similar manner to **Example 4 : Inherit and override prim class** in Inherit.\n"
   ]
  },
  {
   "cell_type": "code",
   "execution_count": 67,
   "id": "e3017404-6902-469c-a8e2-99a7c61fe240",
   "metadata": {},
   "outputs": [
    {
     "name": "stdout",
     "output_type": "stream",
     "text": [
      "Writing examples/usd_beginner_guide/specialize_example_1_specialize_and_override_original_prim/a_sphere.usda\n"
     ]
    }
   ],
   "source": [
    "%%file examples/usd_beginner_guide/specialize_example_1_specialize_and_override_original_prim/a_sphere.usda\n",
    "#usda 1.0\n",
    "\n",
    "def Sphere \"a_sphere\"\n",
    "{\n",
    "    double3 xformOp:translate = (0.0, 1.0, 0.0)\n",
    "    uniform token[] xformOpOrder = [\"xformOp:translate\"]\n",
    "}"
   ]
  },
  {
   "cell_type": "code",
   "execution_count": 74,
   "id": "685998e3-ab2c-465d-9235-529976f375ac",
   "metadata": {},
   "outputs": [
    {
     "name": "stdout",
     "output_type": "stream",
     "text": [
      "Overwriting examples/usd_beginner_guide/specialize_example_1_specialize_and_override_original_prim/specialize_a_sphere.usda\n"
     ]
    }
   ],
   "source": [
    "%%file examples/usd_beginner_guide/specialize_example_1_specialize_and_override_original_prim/specialize_a_sphere.usda\n",
    "#usda 1.0\n",
    "\n",
    "def \"a_sphere\" (\n",
    "    prepend references = @./a_sphere.usda@</a_sphere>\n",
    ")\n",
    "{\n",
    "    # Here, I can override its properties for all inherits in this file\n",
    "    color3f[] primvars:displayColor = [(1, 0, 0)] (\n",
    "        interpolation = \"constant\"\n",
    "    )\n",
    "}\n",
    "\n",
    "\n",
    "def \"sphere_01\"(\n",
    "    prepend specializes = </a_sphere> \n",
    ")\n",
    "{} \n",
    "# you can inherit the same Prim as much as you want.\n",
    "def \"sphere_02\"(\n",
    "    prepend specializes = </a_sphere>\n",
    ")\n",
    "{\n",
    "    # Here, I can override its properties for this specific inherit\n",
    "    color3f[] primvars:displayColor = [(0, 0, 1)] (\n",
    "        interpolation = \"constant\"\n",
    "    )\n",
    "    double3 xformOp:translate = (0.0, 0.0, 2.0)\n",
    "    uniform token[] xformOpOrder = [\"xformOp:translate\"]\n",
    "} \n",
    "def \"sphere_03\"(\n",
    "    prepend specializes = </a_sphere>\n",
    ")\n",
    "{\n",
    "    double3 xformOp:translate = (0.0, 0.0, 4.0)\n",
    "    uniform token[] xformOpOrder = [\"xformOp:translate\"]\n",
    "} \n",
    "def \"sphere_04\"(\n",
    "    prepend specializes = </a_sphere>\n",
    ")\n",
    "{\n",
    "    double3 xformOp:translate = (0.0, 0.0, 6.0)\n",
    "    uniform token[] xformOpOrder = [\"xformOp:translate\"]\n",
    "} "
   ]
  },
  {
   "cell_type": "code",
   "execution_count": 73,
   "id": "396e39ae-91d4-440e-96ff-ff2b7d4d7a84",
   "metadata": {},
   "outputs": [
    {
     "name": "stdout",
     "output_type": "stream",
     "text": [
      "Overwriting examples/usd_beginner_guide/specialize_example_1_specialize_and_override_original_prim/reference_my_spheres.usda\n"
     ]
    }
   ],
   "source": [
    "%%file examples/usd_beginner_guide/specialize_example_1_specialize_and_override_original_prim/reference_my_spheres.usda\n",
    "#usda 1.0\n",
    "\n",
    "# when using inherits, I don't have to worry about the class prim because it's not shown anyway.\n",
    "# unlike specializers I need to reference my specialized Prims in a seperate layer.\n",
    "\n",
    "def \"sphere_01\"(\n",
    "    prepend references = @./specialize_a_sphere.usda@</sphere_01>\n",
    ")\n",
    "{} \n",
    "\n",
    "def \"sphere_02\"(\n",
    "    prepend references = @./specialize_a_sphere.usda@</sphere_02>\n",
    ")\n",
    "{} \n",
    "\n",
    "def \"sphere_03\"(\n",
    "    prepend references = @./specialize_a_sphere.usda@</sphere_03>\n",
    ")\n",
    "{}\n",
    "\n",
    "def \"sphere_04\"(\n",
    "    prepend references = @./specialize_a_sphere.usda@</sphere_04>\n",
    ")\n",
    "{} "
   ]
  },
  {
   "cell_type": "code",
   "execution_count": 70,
   "id": "1702a2e6-9476-4d4e-bf57-b389747d88cd",
   "metadata": {},
   "outputs": [
    {
     "name": "stdout",
     "output_type": "stream",
     "text": [
      "Writing examples/usd_beginner_guide/specialize_example_1_specialize_and_override_original_prim/turn_original_sphere_green.usda\n"
     ]
    }
   ],
   "source": [
    "%%file examples/usd_beginner_guide/specialize_example_1_specialize_and_override_original_prim/turn_original_sphere_green.usda\n",
    "#usda 1.0\n",
    "\n",
    "# Note that this Prim doesn't exist in the previous file 'reference_my_spheres.usda'\n",
    "over \"a_sphere\"\n",
    "{\n",
    "    color3f[] primvars:displayColor = [(0, 1, 0)] (\n",
    "        interpolation = \"constant\"\n",
    "    )\n",
    "}"
   ]
  },
  {
   "cell_type": "code",
   "execution_count": 72,
   "id": "42f3079c-78b7-45a1-a543-c2881d45cafb",
   "metadata": {},
   "outputs": [
    {
     "name": "stdout",
     "output_type": "stream",
     "text": [
      "Overwriting examples/usd_beginner_guide/specialize_example_1_specialize_and_override_original_prim/sub_layer_specialize_and_modification.usda\n"
     ]
    }
   ],
   "source": [
    "%%file examples/usd_beginner_guide/specialize_example_1_specialize_and_override_original_prim/sub_layer_specialize_and_modification.usda\n",
    "#usda 1.0\n",
    "\n",
    "(\n",
    "    subLayers = [\n",
    "        @./turn_original_sphere_green.usda@,\n",
    "        @./reference_my_spheres.usda@,\n",
    "    ]\n",
    ")"
   ]
  },
  {
   "cell_type": "markdown",
   "id": "32a08335-8e0a-448e-9d6d-f77bfca1001d",
   "metadata": {},
   "source": [
    "**Result:** Notice the Stack Layer\n",
    "![](../resources/getting_started_guide/specialize_example_1_specialize_and_override_original_prim.png)\n",
    "\n",
    "**Example 2: specialize and override specialized prims**\n",
    "\n",
    "> This works in a similar manner to **Example 5 : Inherit and override individual prims** in Inherit."
   ]
  },
  {
   "cell_type": "code",
   "execution_count": 75,
   "id": "f59f1041-0995-4c38-933d-487010101dc7",
   "metadata": {},
   "outputs": [
    {
     "name": "stdout",
     "output_type": "stream",
     "text": [
      "Writing examples/usd_beginner_guide/specialize_example_2_specialize_and_override_specialized_prims/a_sphere.usda\n"
     ]
    }
   ],
   "source": [
    "%%file examples/usd_beginner_guide/specialize_example_2_specialize_and_override_specialized_prims/a_sphere.usda\n",
    "#usda 1.0\n",
    "\n",
    "def Sphere \"a_sphere\"\n",
    "{\n",
    "    double3 xformOp:translate = (0.0, 1.0, 0.0)\n",
    "    uniform token[] xformOpOrder = [\"xformOp:translate\"]\n",
    "}"
   ]
  },
  {
   "cell_type": "code",
   "execution_count": 76,
   "id": "2e3d159c-2ae8-4711-adf0-0421c6db9862",
   "metadata": {},
   "outputs": [
    {
     "name": "stdout",
     "output_type": "stream",
     "text": [
      "Writing examples/usd_beginner_guide/specialize_example_2_specialize_and_override_specialized_prims/specialize_a_sphere.usda\n"
     ]
    }
   ],
   "source": [
    "%%file examples/usd_beginner_guide/specialize_example_2_specialize_and_override_specialized_prims/specialize_a_sphere.usda\n",
    "#usda 1.0\n",
    "\n",
    "def \"a_sphere\" (\n",
    "    prepend references = @./a_sphere.usda@</a_sphere>\n",
    ")\n",
    "{\n",
    "    # Here, I can override its properties for all inherits in this file\n",
    "    color3f[] primvars:displayColor = [(1, 0, 0)] (\n",
    "        interpolation = \"constant\"\n",
    "    )\n",
    "}\n",
    "\n",
    "\n",
    "def \"sphere_01\"(\n",
    "    prepend specializes = </a_sphere> \n",
    ")\n",
    "{} \n",
    "# you can inherit the same Prim as much as you want.\n",
    "def \"sphere_02\"(\n",
    "    prepend specializes = </a_sphere>\n",
    ")\n",
    "{\n",
    "    # Here, I can override its properties for this specific inherit\n",
    "    color3f[] primvars:displayColor = [(0, 0, 1)] (\n",
    "        interpolation = \"constant\"\n",
    "    )\n",
    "    double3 xformOp:translate = (0.0, 0.0, 2.0)\n",
    "    uniform token[] xformOpOrder = [\"xformOp:translate\"]\n",
    "} \n",
    "def \"sphere_03\"(\n",
    "    prepend specializes = </a_sphere>\n",
    ")\n",
    "{\n",
    "    double3 xformOp:translate = (0.0, 0.0, 4.0)\n",
    "    uniform token[] xformOpOrder = [\"xformOp:translate\"]\n",
    "} \n",
    "def \"sphere_04\"(\n",
    "    prepend specializes = </a_sphere>\n",
    ")\n",
    "{\n",
    "    double3 xformOp:translate = (0.0, 0.0, 6.0)\n",
    "    uniform token[] xformOpOrder = [\"xformOp:translate\"]\n",
    "}"
   ]
  },
  {
   "cell_type": "code",
   "execution_count": 77,
   "id": "bda152e5-c3f1-4ddd-b39c-d71045cc5a14",
   "metadata": {},
   "outputs": [
    {
     "name": "stdout",
     "output_type": "stream",
     "text": [
      "Writing examples/usd_beginner_guide/specialize_example_2_specialize_and_override_specialized_prims/reference_my_spheres.usda\n"
     ]
    }
   ],
   "source": [
    "%%file examples/usd_beginner_guide/specialize_example_2_specialize_and_override_specialized_prims/reference_my_spheres.usda\n",
    "#usda 1.0\n",
    "\n",
    "# when using inherits, I don't have to worry about the class prim because it's not shown anyway.\n",
    "# unlike specializers I need to reference my specialized Prims in a seperate layer.\n",
    "\n",
    "def \"sphere_01\"(\n",
    "    prepend references = @./specialize_a_sphere.usda@</sphere_01>\n",
    ")\n",
    "{} \n",
    "\n",
    "def \"sphere_02\"(\n",
    "    prepend references = @./specialize_a_sphere.usda@</sphere_02>\n",
    ")\n",
    "{} \n",
    "\n",
    "def \"sphere_03\"(\n",
    "    prepend references = @./specialize_a_sphere.usda@</sphere_03>\n",
    ")\n",
    "{}\n",
    "\n",
    "def \"sphere_04\"(\n",
    "    prepend references = @./specialize_a_sphere.usda@</sphere_04>\n",
    ")\n",
    "{}"
   ]
  },
  {
   "cell_type": "code",
   "execution_count": 79,
   "id": "cc64e31d-186c-4baa-bceb-49bf95ccb6c6",
   "metadata": {},
   "outputs": [
    {
     "name": "stdout",
     "output_type": "stream",
     "text": [
      "Writing examples/usd_beginner_guide/specialize_example_2_specialize_and_override_specialized_prims/turn_spheres_green.usda\n"
     ]
    }
   ],
   "source": [
    "%%file examples/usd_beginner_guide/specialize_example_2_specialize_and_override_specialized_prims/turn_spheres_green.usda\n",
    "#usda 1.0\n",
    "\n",
    "\n",
    "over \"sphere_01\"\n",
    "{\n",
    "    # Here, I can override its properties for all inherits in this file\n",
    "    color3f[] primvars:displayColor = [(0, 1, 0)] (\n",
    "        interpolation = \"constant\"\n",
    "    )   \n",
    "}\n",
    "over \"sphere_02\"\n",
    "{\n",
    "    # Here, I can override its properties for all inherits in this file\n",
    "    color3f[] primvars:displayColor = [(0, 1, 0)] (\n",
    "        interpolation = \"constant\"\n",
    "    )   \n",
    "}\n",
    "over \"sphere_03\"\n",
    "{\n",
    "    # Here, I can override its properties for all inherits in this file\n",
    "    color3f[] primvars:displayColor = [(0, 1, 0)] (\n",
    "        interpolation = \"constant\"\n",
    "    )   \n",
    "}\n",
    "over \"sphere_04\"\n",
    "{\n",
    "    # Here, I can override its properties for all inherits in this file\n",
    "    color3f[] primvars:displayColor = [(0, 1, 0)] (\n",
    "        interpolation = \"constant\"\n",
    "    )   \n",
    "}"
   ]
  },
  {
   "cell_type": "code",
   "execution_count": 78,
   "id": "37980aae-203d-458c-9de8-02d3e1291fb2",
   "metadata": {},
   "outputs": [
    {
     "name": "stdout",
     "output_type": "stream",
     "text": [
      "Writing examples/usd_beginner_guide/specialize_example_2_specialize_and_override_specialized_prims/sub_layer_specialize_and_modification.usda\n"
     ]
    }
   ],
   "source": [
    "%%file examples/usd_beginner_guide/specialize_example_2_specialize_and_override_specialized_prims/sub_layer_specialize_and_modification.usda\n",
    "#usda 1.0\n",
    "\n",
    "(\n",
    "    subLayers = [\n",
    "        @./turn_spheres_green.usda@,\n",
    "        @./reference_my_spheres.usda@,\n",
    "    ]\n",
    ")"
   ]
  },
  {
   "cell_type": "markdown",
   "id": "65a78e7d-74ea-4b27-8998-c275ba915db3",
   "metadata": {},
   "source": [
    "**Result:** Notice the layer stack.\n",
    "![](../resources/getting_started_guide/specialize_example_2_specialize_and_override_specialized_prims.png)"
   ]
  },
  {
   "cell_type": "markdown",
   "id": "f5ff49df-bc51-40d0-9302-ee235fb11885",
   "metadata": {
    "jp-MarkdownHeadingCollapsed": true
   },
   "source": [
    "#### **Inherits and Specialize**\n",
    "\n",
    "Recalling **Example 6: Inherit and override original prim** and **Example 1: specialize and override original prim**\n",
    "\n",
    "What was so special about `\"sphere_02\"` . well, let's have a look at the **layer stack** and see when the prim is turned green.\n",
    "    \n",
    "\n",
    "| | **Why is it green?** | **Why is it blue?** |\n",
    "| -- | -- | -- | \n",
    "| **Layer Stack** | ![](../resources/getting_started_guide/inherits_and_specialize_why_is_it_green.png) | ![](../resources/getting_started_guide/inherits_and_specialize_why_is_it_blue.png) |\n",
    "| **Composition Inspection** | ![](../resources/getting_started_guide/inherits_and_specialize_why_is_it_green_2.png) | ![](../resources/getting_started_guide/inherits_and_specialize_why_is_it_blue_2.png) |"
   ]
  },
  {
   "cell_type": "markdown",
   "id": "446d9adb-76a6-4d15-88b6-0b7b7974f15f",
   "metadata": {},
   "source": [
    "## **USD Composition Engine**\n",
    "\n",
    "You can now infer why composition arcs can lead to confusion.\n",
    "\n",
    "Learning about how composition engine works helps a lot in avoiding such a confusion.\n",
    "\n",
    "> There's a great presentation notes here [Siggraph presentation notes | Pixar](https://openusd.org/release/dl_downloads.html) by Pixar.\n",
    ">\n",
    "> In [Siggraph2019 USD Composition | Pixar](https://openusd.org/files/Siggraph2019_USD%20Composition.pdf), there's a stunning recap of Composition Arcs and Strength Order.\n",
    "\n",
    "### **Strength Ordering (LIVRPS)**\n",
    "\n",
    "Each composition arc has a “strength” assigned to it.\n",
    "The composition arc that is the “strongest” wins.\n",
    "USD resolves composition arcs and their opinions in this exact order LIVRPS (Liver Peas).\n",
    "- Local\n",
    "- Inherits\n",
    "- Variants\n",
    "- References\n",
    "- Payloads\n",
    "- Specializes\n",
    "\n",
    "> Image credits: [Strength Ordering (LIVRPS)](https://remedy-entertainment.github.io/USDBook/terminology/LIVRPS.html)\n",
    " \n",
    "![](../resources/getting_started_guide/composition_engine.png)"
   ]
  },
  {
   "cell_type": "markdown",
   "id": "93ff500d-5853-4a9f-bf16-29a7b060d691",
   "metadata": {},
   "source": [
    "### **LIVRPS Examples**\n",
    "\n",
    "I have already talked about this topic indirectly in the previous sections, where there are many examples. \n",
    "You can actually go back and compare these examples to the previous image. \n",
    "But, why don't we return to this topic in this section with more direct examples.\n",
    "\n",
    "> FYI, There are many magnificient LIVRPS examples in this course [USD and LOPs for Houdini Artists | FXPHD](https://www.fxphd.com/details/642/). \n",
    "\n",
    "#### **Layer Stack**\n",
    "Revisiting `cube_asset` that was created in Houdini.\n",
    "Notice the layer stack. It tells how different layers are stacked. \n",
    "\n",
    "This asset consists of 3 layers: \n",
    "- model : which describes my `cube` geometry (simple cube)\n",
    "- lookdev : which describes my `cube` material (simple Houdini's principledshader + set material to my cube)\n",
    "- animation : which describes my `cube` animation (simple transform animation)\n",
    "\n",
    "As shown in the following gif: The layer stack in this asset is as follows:\n",
    "`model` ➜ `lookdev` ➜ `animation` \n",
    "\n",
    "**Each layer overrides its predecessor layers.**\n",
    "\n",
    "![](../resources/getting_started_guide/livrps_example_layer_stack.gif)\n",
    "\n",
    "\n",
    "#### **Local Vs. Sublayer**\n",
    "Applying local edits after sublayering. \n",
    "**Local always wins!**\n",
    "| Edits | Result |\n",
    "| -- | -- | \n",
    "| ![](../resources/getting_started_guide/livrps_example_1_local_vs_sublayer_1.png) | ![](../resources/getting_started_guide/livrps_example_1_local_vs_sublayer_2.png) |\n",
    "\n",
    "#### **Local Vs. Reference**\n",
    "Applying local edits after referencing. \n",
    "**Local always wins!**\n",
    "| Edits | Result |\n",
    "| -- | -- | \n",
    "| ![](../resources/getting_started_guide/livrps_example_2_local_vs_reference_1.png) | ![](../resources/getting_started_guide/livrps_example_2_local_vs_reference_2.png) |\n",
    "\n",
    "#### **Composition Inspection**\n",
    "Show compoisiton results step by step. \n",
    "This should help you when you can't figure out why a certain outcome occurred.\n",
    "\n",
    "Inspection can be done through compoisiton tab in usdview.\n",
    "\n",
    "Recalling this example: \n",
    "Inspection is done through checking **Layer Stack** and **Composition** tabs. Specially **Compoisiton** tab which tells the composition history. \n",
    "\n",
    "| | **Layer Stack** | **Composition Inspection** |\n",
    "| -- | -- | -- | \n",
    "| **Why is it green?** | ![](../resources/getting_started_guide/inherits_and_specialize_why_is_it_green.png) | ![](../resources/getting_started_guide/inherits_and_specialize_why_is_it_green_2.png) |\n",
    "\n",
    "\n",
    "#### **More Examples are in their way**"
   ]
  }
 ],
 "metadata": {
  "kernelspec": {
   "display_name": "Python 3 (ipykernel)",
   "language": "python",
   "name": "python3"
  },
  "language_info": {
   "codemirror_mode": {
    "name": "ipython",
    "version": 3
   },
   "file_extension": ".py",
   "mimetype": "text/x-python",
   "name": "python",
   "nbconvert_exporter": "python",
   "pygments_lexer": "ipython3",
   "version": "3.10.10"
  }
 },
 "nbformat": 4,
 "nbformat_minor": 5
}
